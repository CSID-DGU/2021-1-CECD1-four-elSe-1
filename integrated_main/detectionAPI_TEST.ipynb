{
 "cells": [
  {
   "cell_type": "code",
   "execution_count": 1,
   "source": [
    "import requests\n",
    "\n"
   ],
   "outputs": [],
   "metadata": {}
  },
  {
   "cell_type": "code",
   "execution_count": 2,
   "source": [
    "# # 서버에 model 로드\n",
    "# url = \"http://127.0.0.1:5000/\"\n",
    "# response = requests.get(url)\n"
   ],
   "outputs": [],
   "metadata": {}
  },
  {
   "cell_type": "code",
   "execution_count": 3,
   "source": [
    "url = \"http://127.0.0.1:5000/api/detection\"\n",
    "response = requests.get(url)\n",
    "print(type(response.json()))"
   ],
   "outputs": [
    {
     "output_type": "stream",
     "name": "stdout",
     "text": [
      "<class 'dict'>\n"
     ]
    }
   ],
   "metadata": {}
  },
  {
   "cell_type": "code",
   "execution_count": 4,
   "source": [
    "response.json()"
   ],
   "outputs": [
    {
     "output_type": "execute_result",
     "data": {
      "text/plain": [
       "{'detected_objectList': [{'location': {'xmax': 209,\n",
       "    'xmin': 0,\n",
       "    'ymax': 550,\n",
       "    'ymin': 0},\n",
       "   'objectID': '783a75e3-0c8c-40ae-a7b6-2f16a28c9830',\n",
       "   'objectImagePath': 'yolov5/runs/detect/query4/croppedImages/92442_closet.jpg',\n",
       "   'tag': 'closet'},\n",
       "  {'location': {'xmax': 206, 'xmin': 0, 'ymax': 549, 'ymin': 294},\n",
       "   'objectID': '7f0af45b-2074-4835-ba26-477475a61f84',\n",
       "   'objectImagePath': 'yolov5/runs/detect/query4/croppedImages/92442_closet2.jpg',\n",
       "   'tag': 'closet'},\n",
       "  {'location': {'xmax': 548, 'xmin': 281, 'ymax': 387, 'ymin': 159},\n",
       "   'objectID': 'af2f0bac-97bf-461d-a6c2-0df68cfc1846',\n",
       "   'objectImagePath': 'yolov5/runs/detect/query4/croppedImages/92442_bed.jpg',\n",
       "   'tag': 'bed'}]}"
      ]
     },
     "metadata": {},
     "execution_count": 4
    }
   ],
   "metadata": {}
  },
  {
   "cell_type": "code",
   "execution_count": null,
   "source": [],
   "outputs": [],
   "metadata": {}
  }
 ],
 "metadata": {
  "orig_nbformat": 4,
  "language_info": {
   "name": "python",
   "version": "3.7.10",
   "mimetype": "text/x-python",
   "codemirror_mode": {
    "name": "ipython",
    "version": 3
   },
   "pygments_lexer": "ipython3",
   "nbconvert_exporter": "python",
   "file_extension": ".py"
  },
  "kernelspec": {
   "name": "python3",
   "display_name": "Python 3.7.10 64-bit ('tf2.5': conda)"
  },
  "interpreter": {
   "hash": "8713644ccf95bc94f9cdb73f3820952989f55b48f58b1b4cb3d9529941d252d1"
  }
 },
 "nbformat": 4,
 "nbformat_minor": 2
}