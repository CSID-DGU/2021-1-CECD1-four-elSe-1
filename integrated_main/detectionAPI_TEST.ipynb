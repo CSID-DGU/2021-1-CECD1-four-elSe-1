{
 "cells": [
  {
   "cell_type": "code",
   "execution_count": 1,
   "source": [
    "import requests\n",
    "\n"
   ],
   "outputs": [],
   "metadata": {}
  },
  {
   "cell_type": "code",
   "execution_count": 2,
   "source": [
    "# # 서버에 model 로드\n",
    "# url = \"http://127.0.0.1:5000/\"\n",
    "# response = requests.get(url)\n"
   ],
   "outputs": [],
   "metadata": {}
  },
  {
   "cell_type": "code",
   "execution_count": 3,
   "source": [
    "url = \"http://127.0.0.1:5000/api/detection\"\n",
    "response = requests.get(url)\n",
    "response.json()"
   ],
   "outputs": [
    {
     "output_type": "execute_result",
     "data": {
      "text/plain": [
       "{'detected_objectList': [{'location': {'xmax': 209,\n",
       "    'xmin': 0,\n",
       "    'ymax': 550,\n",
       "    'ymin': 0},\n",
       "   'objectID': 'c4e50b6e-6183-4891-8175-ca56d8cd672d',\n",
       "   'objectImagePath': 'yolov5/runs/detect/query/croppedImages/92442_closet.jpg',\n",
       "   'tag': 'closet'},\n",
       "  {'location': {'xmax': 206, 'xmin': 0, 'ymax': 549, 'ymin': 294},\n",
       "   'objectID': 'f10818bb-853c-45be-8943-2af985462fa4',\n",
       "   'objectImagePath': 'yolov5/runs/detect/query/croppedImages/92442_closet2.jpg',\n",
       "   'tag': 'closet'},\n",
       "  {'location': {'xmax': 548, 'xmin': 281, 'ymax': 387, 'ymin': 159},\n",
       "   'objectID': '33cb13ed-9308-4417-ae2b-fdd64738d010',\n",
       "   'objectImagePath': 'yolov5/runs/detect/query/croppedImages/92442_bed.jpg',\n",
       "   'tag': 'bed'}]}"
      ]
     },
     "metadata": {},
     "execution_count": 3
    }
   ],
   "metadata": {}
  },
  {
   "cell_type": "code",
   "execution_count": null,
   "source": [],
   "outputs": [],
   "metadata": {}
  }
 ],
 "metadata": {
  "orig_nbformat": 4,
  "language_info": {
   "name": "python",
   "version": "3.7.10",
   "mimetype": "text/x-python",
   "codemirror_mode": {
    "name": "ipython",
    "version": 3
   },
   "pygments_lexer": "ipython3",
   "nbconvert_exporter": "python",
   "file_extension": ".py"
  },
  "kernelspec": {
   "name": "python3",
   "display_name": "Python 3.7.10 64-bit ('tf2.5': conda)"
  },
  "interpreter": {
   "hash": "8713644ccf95bc94f9cdb73f3820952989f55b48f58b1b4cb3d9529941d252d1"
  }
 },
 "nbformat": 4,
 "nbformat_minor": 2
}