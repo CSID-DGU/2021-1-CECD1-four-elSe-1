{
 "cells": [
  {
   "cell_type": "code",
   "execution_count": 1,
   "id": "742dd40b",
   "metadata": {},
   "outputs": [
    {
     "output_type": "stream",
     "name": "stderr",
     "text": [
      "Using TensorFlow backend.\n"
     ]
    }
   ],
   "source": [
    "import matplotlib.pyplot as plt\n",
    "from glob import glob\n",
    "\n",
    "import cv2\n",
    "import os\n",
    "import numpy as np\n",
    "import time\n",
    "import base64\n",
    "import codecs, json\n",
    "import pickle\n",
    "\n",
    "from PIL import Image\n",
    "\n",
    "\n",
    "# import keras\n",
    "import keras\n",
    "\n",
    "# import keras_retinanet\n",
    "from keras_retinanet import models\n",
    "from keras_retinanet.utils.image import read_image_bgr, preprocess_image, resize_image\n",
    "from keras_retinanet.utils.visualization import draw_box, draw_caption\n",
    "from keras_retinanet.utils.colors import label_color\n",
    "#from keras_retinanet.utils.gpu import setup_gpu\n",
    "from keras.models import Model\n",
    "\n",
    "\n",
    "\n",
    "# object detection\n",
    "os.path.join('./keras-retinanet', 'snapshots', 'resnet50_coco_best_v2.1.0.h5')\n",
    "\n",
    "model_path = os.path.join('./keras-retinanet', 'snapshots', 'resnet50_coco_best_v2.1.0.h5')\n"
   ]
  },
  {
   "cell_type": "code",
   "execution_count": 2,
   "id": "d6396147",
   "metadata": {},
   "outputs": [],
   "source": [
    "dataset_path = \"./original_test/\"\n",
    "output_path = \"./detected_data/detected_from_test/\""
   ]
  },
  {
   "cell_type": "code",
   "execution_count": 3,
   "id": "71b28696",
   "metadata": {},
   "outputs": [
    {
     "output_type": "stream",
     "name": "stdout",
     "text": [
      "WARNING:tensorflow:From /home/plass-heesu/anaconda3/envs/tf1.15/lib/python3.6/site-packages/tensorflow_core/python/ops/resource_variable_ops.py:1630: calling BaseResourceVariable.__init__ (from tensorflow.python.ops.resource_variable_ops) with constraint is deprecated and will be removed in a future version.\n",
      "Instructions for updating:\n",
      "If using Keras pass *_constraint arguments to layers.\n",
      "tracking <tf.Variable 'Variable:0' shape=(9, 4) dtype=float32> anchors\n",
      "tracking <tf.Variable 'Variable_1:0' shape=(9, 4) dtype=float32> anchors\n",
      "tracking <tf.Variable 'Variable_2:0' shape=(9, 4) dtype=float32> anchors\n",
      "tracking <tf.Variable 'Variable_3:0' shape=(9, 4) dtype=float32> anchors\n",
      "tracking <tf.Variable 'Variable_4:0' shape=(9, 4) dtype=float32> anchors\n",
      "WARNING:tensorflow:From /home/plass-heesu/anaconda3/envs/tf1.15/lib/python3.6/site-packages/keras/backend/tensorflow_backend.py:4070: The name tf.nn.max_pool is deprecated. Please use tf.nn.max_pool2d instead.\n",
      "\n",
      "WARNING:tensorflow:From /home/plass-heesu/.local/lib/python3.6/site-packages/keras_retinanet/backend/tensorflow_backend.py:68: The name tf.image.resize_images is deprecated. Please use tf.image.resize instead.\n",
      "\n",
      "WARNING:tensorflow:From /home/plass-heesu/.local/lib/python3.6/site-packages/keras_retinanet/backend/tensorflow_backend.py:104: where (from tensorflow.python.ops.array_ops) is deprecated and will be removed in a future version.\n",
      "Instructions for updating:\n",
      "Use tf.where in 2.0, which has the same broadcast rule as np.where\n",
      "handling person000355.png\n",
      "image shape: (427, 640, 3)\n",
      "resized image size: (800, 1199, 3) scale: 1.873536299765808\n",
      "WARNING:tensorflow:From /home/plass-heesu/anaconda3/envs/tf1.15/lib/python3.6/site-packages/keras/backend/tensorflow_backend.py:422: The name tf.global_variables is deprecated. Please use tf.compat.v1.global_variables instead.\n",
      "\n",
      "/home/plass-heesu/anaconda3/envs/tf1.15/lib/python3.6/site-packages/keras/engine/saving.py:341: UserWarning: No training configuration found in save file: the model was *not* compiled. Compile it manually.\n",
      "  warnings.warn('No training configuration found in save file: '\n",
      "(1, 300, 4) (1, 300) (1, 300)\n",
      "processing time:  3.2125751972198486\n",
      "handling person000518.png\n",
      "image shape: (392, 640, 3)\n",
      "resized image size: (800, 1306, 3) scale: 2.0408163265306123\n",
      "(1, 300, 4) (1, 300) (1, 300)\n",
      "processing time:  0.951556921005249\n",
      "detection 완료!\n"
     ]
    }
   ],
   "source": [
    "\n",
    "retina_model = models.load_model(model_path, backbone_name='resnet50')\n",
    "os.chdir(dataset_path)\n",
    "dataset_list = os.listdir(os.getcwd())\n",
    "os.chdir('../')\n",
    "\n",
    "\n",
    "from object_detection import object_detection\n",
    "object_detection(retina_model, dataset_list, dataset_path, output_path)\n"
   ]
  },
  {
   "cell_type": "code",
   "execution_count": 4,
   "id": "dc2e35bc",
   "metadata": {},
   "outputs": [
    {
     "output_type": "stream",
     "name": "stderr",
     "text": [
      "100%|██████████| 18/18 [00:00<00:00, 114.80it/s]\n"
     ]
    }
   ],
   "source": [
    "from ImageRetrievalClass import ImageRetrievalClass\n",
    "from tqdm import tqdm\n",
    "\n",
    "images_path = glob(output_path+\"*.jpg\")\n",
    "\n",
    "for path in tqdm(images_path):\n",
    "    image_pil = Image.open(path)\n",
    "    image_resized = image_pil.resize((512,512))\n",
    "    image_resized.save(path)\n",
    "    "
   ]
  },
  {
   "cell_type": "code",
   "execution_count": 5,
   "id": "7f304e0d",
   "metadata": {},
   "outputs": [
    {
     "output_type": "stream",
     "name": "stdout",
     "text": [
      "Reading train images from '/home/plass-heesu/KimHeeSu/2021-1-CECD3-four-elSe-1/integrated_main/detected_data/detected_from_train'...\nReading test images from '/home/plass-heesu/KimHeeSu/2021-1-CECD3-four-elSe-1/integrated_main/detected_data/detected_from_test'...\n"
     ]
    },
    {
     "output_type": "error",
     "ename": "IndexError",
     "evalue": "list index out of range",
     "traceback": [
      "\u001b[0;31m---------------------------------------------------------------------------\u001b[0m",
      "\u001b[0;31mIndexError\u001b[0m                                Traceback (most recent call last)",
      "\u001b[0;32m<ipython-input-5-2a869b8fa9bd>\u001b[0m in \u001b[0;36m<module>\u001b[0;34m\u001b[0m\n\u001b[1;32m      4\u001b[0m \u001b[0;31m#     parallel = False  # use multicore processing\u001b[0m\u001b[0;34m\u001b[0m\u001b[0;34m\u001b[0m\u001b[0;34m\u001b[0m\u001b[0m\n\u001b[1;32m      5\u001b[0m \u001b[0;34m\u001b[0m\u001b[0m\n\u001b[0;32m----> 6\u001b[0;31m \u001b[0mretrieval\u001b[0m \u001b[0;34m=\u001b[0m \u001b[0mImageRetrievalClass\u001b[0m\u001b[0;34m(\u001b[0m\u001b[0;34m\"ResNet50v2\"\u001b[0m\u001b[0;34m,\u001b[0m \u001b[0;32mTrue\u001b[0m\u001b[0;34m,\u001b[0m \u001b[0;32mFalse\u001b[0m\u001b[0;34m)\u001b[0m\u001b[0;34m\u001b[0m\u001b[0;34m\u001b[0m\u001b[0m\n\u001b[0m\u001b[1;32m      7\u001b[0m \u001b[0mretrieval\u001b[0m\u001b[0;34m.\u001b[0m\u001b[0mbuildModel\u001b[0m\u001b[0;34m(\u001b[0m\u001b[0;34m)\u001b[0m\u001b[0;34m\u001b[0m\u001b[0;34m\u001b[0m\u001b[0m\n\u001b[1;32m      8\u001b[0m \u001b[0mretrieval\u001b[0m\u001b[0;34m.\u001b[0m\u001b[0mtransform\u001b[0m\u001b[0;34m(\u001b[0m\u001b[0;34m)\u001b[0m\u001b[0;34m\u001b[0m\u001b[0;34m\u001b[0m\u001b[0m\n",
      "\u001b[0;32m~/KimHeeSu/2021-1-CECD3-four-elSe-1/integrated_main/ImageRetrievalClass.py\u001b[0m in \u001b[0;36m__init__\u001b[0;34m(self, modelName, trainModel, parallel)\u001b[0m\n\u001b[1;32m     36\u001b[0m         \u001b[0mprint\u001b[0m\u001b[0;34m(\u001b[0m\u001b[0;34m\"Reading test images from '{}'...\"\u001b[0m\u001b[0;34m.\u001b[0m\u001b[0mformat\u001b[0m\u001b[0;34m(\u001b[0m\u001b[0mself\u001b[0m\u001b[0;34m.\u001b[0m\u001b[0mdataTestDir\u001b[0m\u001b[0;34m)\u001b[0m\u001b[0;34m)\u001b[0m\u001b[0;34m\u001b[0m\u001b[0;34m\u001b[0m\u001b[0m\n\u001b[1;32m     37\u001b[0m         \u001b[0mself\u001b[0m\u001b[0;34m.\u001b[0m\u001b[0mimgs_test\u001b[0m \u001b[0;34m=\u001b[0m \u001b[0mread_imgs_dir\u001b[0m\u001b[0;34m(\u001b[0m\u001b[0mself\u001b[0m\u001b[0;34m.\u001b[0m\u001b[0mdataTestDir\u001b[0m\u001b[0;34m,\u001b[0m \u001b[0mextensions\u001b[0m\u001b[0;34m,\u001b[0m \u001b[0mparallel\u001b[0m\u001b[0;34m=\u001b[0m\u001b[0mparallel\u001b[0m\u001b[0;34m)\u001b[0m\u001b[0;34m\u001b[0m\u001b[0;34m\u001b[0m\u001b[0m\n\u001b[0;32m---> 38\u001b[0;31m         \u001b[0mself\u001b[0m\u001b[0;34m.\u001b[0m\u001b[0mshape_img\u001b[0m \u001b[0;34m=\u001b[0m \u001b[0mself\u001b[0m\u001b[0;34m.\u001b[0m\u001b[0mimgs_train\u001b[0m\u001b[0;34m[\u001b[0m\u001b[0;36m0\u001b[0m\u001b[0;34m]\u001b[0m\u001b[0;34m.\u001b[0m\u001b[0mshape\u001b[0m\u001b[0;34m\u001b[0m\u001b[0;34m\u001b[0m\u001b[0m\n\u001b[0m\u001b[1;32m     39\u001b[0m         \u001b[0mprint\u001b[0m\u001b[0;34m(\u001b[0m\u001b[0;34m\"Image shape = {}\"\u001b[0m\u001b[0;34m.\u001b[0m\u001b[0mformat\u001b[0m\u001b[0;34m(\u001b[0m\u001b[0mself\u001b[0m\u001b[0;34m.\u001b[0m\u001b[0mshape_img\u001b[0m\u001b[0;34m)\u001b[0m\u001b[0;34m)\u001b[0m\u001b[0;34m\u001b[0m\u001b[0;34m\u001b[0m\u001b[0m\n\u001b[1;32m     40\u001b[0m \u001b[0;34m\u001b[0m\u001b[0m\n",
      "\u001b[0;31mIndexError\u001b[0m: list index out of range"
     ]
    }
   ],
   "source": [
    "# try: \"simpleAE\", \"convAE\", \"vgg19\" , \"IncepResNet\", \"ResNet50v2\"\n",
    "#     modelName = \"IncepResNet\"  # try: \"simpleAE\", \"convAE\", \"vgg19\" , \"IncepResNet\", \"ResNet50v2\"\n",
    "#     trainModel = True\n",
    "#     parallel = False  # use multicore processing\n",
    "\n",
    "retrieval = ImageRetrievalClass(\"ResNet50v2\", True, False)\n",
    "retrieval.buildModel()\n",
    "retrieval.transform()\n",
    "retrieval.train()\n",
    "E_train, E_test = retrieval.predict()\n",
    "\n",
    "\n",
    "\n",
    "# image_retrieval(modelName=\"ResNet50v2\",trainModel=True, parallel=False)"
   ]
  },
  {
   "cell_type": "code",
   "execution_count": null,
   "id": "efdce130",
   "metadata": {},
   "outputs": [],
   "source": []
  }
 ],
 "metadata": {
  "kernelspec": {
   "name": "python3",
   "display_name": "Python 3.6.10 64-bit ('tf1.15': conda)"
  },
  "language_info": {
   "codemirror_mode": {
    "name": "ipython",
    "version": 3
   },
   "file_extension": ".py",
   "mimetype": "text/x-python",
   "name": "python",
   "nbconvert_exporter": "python",
   "pygments_lexer": "ipython3",
   "version": "3.6.10"
  },
  "interpreter": {
   "hash": "17602d4e46a445f1401fce1ca9a062a35e1fd7f27530d545fe70f8b58a362fe5"
  }
 },
 "nbformat": 4,
 "nbformat_minor": 5
}