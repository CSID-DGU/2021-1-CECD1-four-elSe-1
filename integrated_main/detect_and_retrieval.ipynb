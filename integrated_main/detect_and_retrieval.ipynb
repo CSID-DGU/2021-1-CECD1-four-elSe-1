{
 "metadata": {
  "language_info": {
   "codemirror_mode": {
    "name": "ipython",
    "version": 3
   },
   "file_extension": ".py",
   "mimetype": "text/x-python",
   "name": "python",
   "nbconvert_exporter": "python",
   "pygments_lexer": "ipython3",
   "version": "3.7.10"
  },
  "orig_nbformat": 4,
  "kernelspec": {
   "name": "python3",
   "display_name": "Python 3.7.10 64-bit ('tf2.4': conda)"
  },
  "interpreter": {
   "hash": "d72922318bc6f11802580474387ad924743addeb681068887155410179d24394"
  }
 },
 "nbformat": 4,
 "nbformat_minor": 2,
 "cells": [
  {
   "cell_type": "code",
   "execution_count": null,
   "source": [
    "import tensorflow as tf\n",
    "import time\n",
    "import tensorflow_hub as hub\n",
    "import cv2\n",
    "from PIL import Image\n",
    "import uuid\n",
    "\n",
    "from EfficientDet import *\n",
    "import os\n",
    "from glob import glob"
   ],
   "outputs": [],
   "metadata": {}
  },
  {
   "cell_type": "code",
   "execution_count": null,
   "source": [
    "gpus = tf.config.experimental.list_physical_devices('GPU')\n",
    "if gpus:\n",
    "    # Restrict TensorFlow to only allocate 1GB of memory on the first GPU\n",
    "    try:\n",
    "        tf.config.experimental.set_virtual_device_configuration(\n",
    "            gpus[0],\n",
    "            [tf.config.experimental.VirtualDeviceConfiguration(memory_limit=1024 * 10)])\n",
    "\n",
    "        logical_gpus = tf.config.experimental.list_logical_devices('GPU')\n",
    "        print(len(gpus), \"Physical GPUs,\", len(logical_gpus), \"Logical GPUs\")\n",
    "    except RuntimeError as e:\n",
    "        # Virtual devices must be set before GPUs have been initialized\n",
    "        print(e)"
   ],
   "outputs": [],
   "metadata": {}
  },
  {
   "cell_type": "markdown",
   "source": [
    "# test_input에 대해서 object detection 수행"
   ],
   "metadata": {}
  },
  {
   "cell_type": "markdown",
   "source": [
    "## pretrained model 가져오기"
   ],
   "metadata": {}
  },
  {
   "cell_type": "code",
   "execution_count": null,
   "source": [
    "model = get_detector() # daemon으로 올려서 singleton으로"
   ],
   "outputs": [],
   "metadata": {}
  },
  {
   "cell_type": "code",
   "execution_count": null,
   "source": [],
   "outputs": [],
   "metadata": {}
  },
  {
   "cell_type": "code",
   "execution_count": null,
   "source": [
    "dataset_path = \"./original_test/\"\n",
    "output_path = \"./detected_data/detected_from_test/\"\n",
    "dataset_list = os.listdir(dataset_path)"
   ],
   "outputs": [],
   "metadata": {}
  },
  {
   "cell_type": "code",
   "execution_count": null,
   "source": [
    "detected_objectList = object_detection(model, dataset_list,dataset_path, output_path) # detection에 약 8초"
   ],
   "outputs": [],
   "metadata": {}
  },
  {
   "cell_type": "markdown",
   "source": [
    "\n",
    "# retrieval model build"
   ],
   "metadata": {}
  },
  {
   "cell_type": "code",
   "execution_count": null,
   "source": [
    "from ImageRetrievalClass import ImageRetrievalClass\n",
    "retrieval = ImageRetrievalClass(\"IncepResNet\", True, False)\n",
    "retrieval.buildModel()"
   ],
   "outputs": [],
   "metadata": {}
  },
  {
   "cell_type": "markdown",
   "source": [
    "# select one object "
   ],
   "metadata": {}
  },
  {
   "cell_type": "code",
   "execution_count": null,
   "source": [
    "selectedObject = detected_objectList[1]\n",
    "\n",
    "selectedObject_path = selectedObject[\"objectImagePath\"]\n",
    "selectedObject_pil = Image.open(selectedObject_path)\n",
    "selectedObject_pil"
   ],
   "outputs": [],
   "metadata": {}
  },
  {
   "cell_type": "code",
   "execution_count": null,
   "source": [
    "retrieval.readTestSet(selectedObject_pil)"
   ],
   "outputs": [],
   "metadata": {}
  },
  {
   "cell_type": "code",
   "execution_count": null,
   "source": [
    "X_test = retrieval.testTransform()\n"
   ],
   "outputs": [],
   "metadata": {}
  },
  {
   "cell_type": "code",
   "execution_count": null,
   "source": [
    "E_test = retrieval.predictTest(X_test)\n",
    "E_test_flatten = E_test.reshape((-1, np.prod(retrieval.output_shape_model)))"
   ],
   "outputs": [],
   "metadata": {}
  },
  {
   "cell_type": "markdown",
   "source": [
    "# 동일 태그를 가진 객체들을 검색대상 pool에서 가져오기\n",
    "- 추후 mongoDB 쿼리부분으로 바뀌어야 함"
   ],
   "metadata": {}
  },
  {
   "cell_type": "code",
   "execution_count": null,
   "source": [
    "selectedObject"
   ],
   "outputs": [],
   "metadata": {}
  },
  {
   "cell_type": "code",
   "execution_count": null,
   "source": [
    "jsonFiles_path = glob(\"./jsonFiles/*.json\")"
   ],
   "outputs": [],
   "metadata": {}
  },
  {
   "cell_type": "code",
   "execution_count": null,
   "source": [
    "import json\n",
    "queryed_json_pathList = list()\n",
    "queryed_jsonList = list() # list whose element has same tag with selectedObject\n",
    "for path in jsonFiles_path:\n",
    "    with open(path, \"rb\") as f:\n",
    "        jsonFile = json.load(f)\n",
    "    \n",
    "    if jsonFile[\"tag\"] == selectedObject[\"tag\"]:\n",
    "        queryed_json_pathList.append(path)\n",
    "        queryed_jsonList.append(jsonFile)"
   ],
   "outputs": [],
   "metadata": {}
  },
  {
   "cell_type": "code",
   "execution_count": null,
   "source": [
    "queryed_jsonList[0]"
   ],
   "outputs": [],
   "metadata": {}
  },
  {
   "cell_type": "markdown",
   "source": [
    "# 태그로 쿼리한 json 파일의 npy(E_train)과 E_test를 비교"
   ],
   "metadata": {}
  },
  {
   "cell_type": "markdown",
   "source": [
    "## json에서 npy가져와서 E_train 만들기"
   ],
   "metadata": {}
  },
  {
   "cell_type": "code",
   "execution_count": null,
   "source": [
    "E_train = list()\n",
    "for json in queryed_jsonList:\n",
    "    npy = np.load(json[\"npyPath\"])\n",
    "    E_train.append(npy)\n"
   ],
   "outputs": [],
   "metadata": {}
  },
  {
   "cell_type": "code",
   "execution_count": null,
   "source": [
    "E_train = np.array(E_train)\n"
   ],
   "outputs": [],
   "metadata": {}
  },
  {
   "cell_type": "code",
   "execution_count": null,
   "source": [
    "E_train_flatten = E_train.reshape((-1, np.prod(retrieval.output_shape_model)))\n",
    "E_test_flatten.shape"
   ],
   "outputs": [],
   "metadata": {}
  },
  {
   "cell_type": "code",
   "execution_count": null,
   "source": [
    "# E_train_flatten =np.load(\"E_train_flatten.npy\")"
   ],
   "outputs": [],
   "metadata": {}
  },
  {
   "cell_type": "code",
   "execution_count": null,
   "source": [
    "E_train_flatten.shape"
   ],
   "outputs": [],
   "metadata": {}
  },
  {
   "cell_type": "code",
   "execution_count": null,
   "source": [],
   "outputs": [],
   "metadata": {}
  },
  {
   "cell_type": "code",
   "execution_count": null,
   "source": [
    "calculator = retrieval.similarityCalculator(E_train_flatten)"
   ],
   "outputs": [],
   "metadata": {}
  },
  {
   "cell_type": "markdown",
   "source": [
    "## 쿼리 결과의 pool 만들기"
   ],
   "metadata": {}
  },
  {
   "cell_type": "code",
   "execution_count": null,
   "source": [
    "retrieval_imagePool = [Image.open(json[\"objectImagePath\"]) for json in queryed_jsonList]\n",
    "\n"
   ],
   "outputs": [],
   "metadata": {}
  },
  {
   "cell_type": "markdown",
   "source": [
    "## Retrieval"
   ],
   "metadata": {}
  },
  {
   "cell_type": "code",
   "execution_count": null,
   "source": [
    "retrieval.retrieval(E_test_flatten=E_test_flatten, calculator=calculator, retrieval_imagePool=retrieval_imagePool )"
   ],
   "outputs": [],
   "metadata": {}
  },
  {
   "cell_type": "markdown",
   "source": [
    "E_test_flatten.shape"
   ],
   "metadata": {}
  },
  {
   "cell_type": "code",
   "execution_count": null,
   "source": [
    "# 원본 이미지 "
   ],
   "outputs": [],
   "metadata": {}
  },
  {
   "cell_type": "code",
   "execution_count": null,
   "source": [],
   "outputs": [],
   "metadata": {}
  }
 ]
}