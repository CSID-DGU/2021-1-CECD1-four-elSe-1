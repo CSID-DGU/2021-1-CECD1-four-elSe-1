{
 "cells": [
  {
   "cell_type": "code",
   "execution_count": 6,
   "source": [
    "import requests\n",
    "URL = \"http://127.0.0.1:5000/api/efficientDet\"\n",
    "from detectionAPI import *"
   ],
   "outputs": [],
   "metadata": {}
  },
  {
   "cell_type": "code",
   "execution_count": 7,
   "source": [
    "detector = requests.get(URL)"
   ],
   "outputs": [],
   "metadata": {}
  },
  {
   "cell_type": "code",
   "execution_count": 8,
   "source": [
    "detector.json()"
   ],
   "outputs": [
    {
     "output_type": "execute_result",
     "data": {
      "text/plain": [
       "{'detected_objectList': [{'IMG_URL': 'person000518.png',\n",
       "   'location': {'xmax': 389, 'xmin': 173, 'ymax': 633, 'ymin': 376},\n",
       "   'objectID': 'ab7cee8c-9eac-43d2-8443-a428563918dc',\n",
       "   'objectImagePath': './detected_data/detected_from_test/person9_path_(.-original_test-person000518.png).jpg',\n",
       "   'tag': 'person'},\n",
       "  {'IMG_URL': 'person000518.png',\n",
       "   'location': {'xmax': 339, 'xmin': 64, 'ymax': 362, 'ymin': 164},\n",
       "   'objectID': '43d60469-da41-49fe-ab4f-b4615a22d908',\n",
       "   'objectImagePath': './detected_data/detected_from_test/person10_path_(.-original_test-person000518.png).jpg',\n",
       "   'tag': 'person'},\n",
       "  {'IMG_URL': 'person000518.png',\n",
       "   'location': {'xmax': 253, 'xmin': 47, 'ymax': 640, 'ymin': 539},\n",
       "   'objectID': '20c2dcf5-82a2-4093-b953-9499eca21ac2',\n",
       "   'objectImagePath': './detected_data/detected_from_test/person11_path_(.-original_test-person000518.png).jpg',\n",
       "   'tag': 'person'},\n",
       "  {'IMG_URL': 'person000518.png',\n",
       "   'location': {'xmax': 269, 'xmin': 44, 'ymax': 91, 'ymin': 0},\n",
       "   'objectID': '69d006fe-77d8-449b-a640-d913cd41e052',\n",
       "   'objectImagePath': './detected_data/detected_from_test/person12_path_(.-original_test-person000518.png).jpg',\n",
       "   'tag': 'person'},\n",
       "  {'IMG_URL': 'person000518.png',\n",
       "   'location': {'xmax': 290, 'xmin': 256, 'ymax': 106, 'ymin': 0},\n",
       "   'objectID': 'c0e92ee3-6ba5-4e77-ba52-6bef0551033f',\n",
       "   'objectImagePath': './detected_data/detected_from_test/skis3_path_(.-original_test-person000518.png).jpg',\n",
       "   'tag': 'skis'}],\n",
       " 'model': '<tensorflow.python.saved_model.load.Loader._recreate_base_user_object.<locals>._UserObject object at 0x7f2bb01f6050>'}"
      ]
     },
     "metadata": {},
     "execution_count": 8
    }
   ],
   "metadata": {}
  },
  {
   "cell_type": "code",
   "execution_count": null,
   "source": [],
   "outputs": [],
   "metadata": {}
  }
 ],
 "metadata": {
  "orig_nbformat": 4,
  "language_info": {
   "name": "python",
   "version": "3.7.10",
   "mimetype": "text/x-python",
   "codemirror_mode": {
    "name": "ipython",
    "version": 3
   },
   "pygments_lexer": "ipython3",
   "nbconvert_exporter": "python",
   "file_extension": ".py"
  },
  "kernelspec": {
   "name": "python3",
   "display_name": "Python 3.7.10 64-bit ('tf2.4': conda)"
  },
  "interpreter": {
   "hash": "d72922318bc6f11802580474387ad924743addeb681068887155410179d24394"
  }
 },
 "nbformat": 4,
 "nbformat_minor": 2
}