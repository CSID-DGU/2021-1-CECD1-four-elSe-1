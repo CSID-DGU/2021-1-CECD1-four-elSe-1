{
 "cells": [
  {
   "cell_type": "code",
   "execution_count": null,
   "source": [
    "import tensorflow as tf\n",
    "import time\n",
    "import tensorflow_hub as hub\n",
    "import cv2\n",
    "from PIL import Image\n",
    "import uuid\n",
    "\n",
    "from EfficientDet import *\n",
    "import os\n",
    "from glob import glob"
   ],
   "outputs": [],
   "metadata": {}
  },
  {
   "cell_type": "markdown",
   "source": [
    "# 특정 GPU만 사용"
   ],
   "metadata": {}
  },
  {
   "cell_type": "code",
   "execution_count": null,
   "source": [
    "# gpus = tf.config.experimental.list_physical_devices(\"GPU\")\n",
    "# if gpus:\n",
    "# \t# 텐서플로가 세번째 GPU만 사용하도록 제한\n",
    "# \t\ttry:\n",
    "# \t\t\t\ttf.config.experimental.set_visible_devices(gpus[-1], \"GPU\")\n",
    "# \t\texcept :\n",
    "# \t\t\t\tprint(e)"
   ],
   "outputs": [],
   "metadata": {}
  },
  {
   "cell_type": "markdown",
   "source": [
    "# pretrained model 가져오기"
   ],
   "metadata": {}
  },
  {
   "cell_type": "code",
   "execution_count": null,
   "source": [
    "model = get_detector(\"https://tfhub.dev/tensorflow/efficientdet/d4/1\")"
   ],
   "outputs": [],
   "metadata": {}
  },
  {
   "cell_type": "code",
   "execution_count": null,
   "source": [],
   "outputs": [],
   "metadata": {}
  },
  {
   "cell_type": "code",
   "execution_count": null,
   "source": [
    "dataset_path = \"./original_train/\"\n",
    "output_path = \"./detected_data/detected_from_train/\"\n",
    "dataset_list = os.listdir(\"./original_train\")"
   ],
   "outputs": [],
   "metadata": {}
  },
  {
   "cell_type": "markdown",
   "source": [
    "# object detection > 탐지된 객체 저장"
   ],
   "metadata": {}
  },
  {
   "cell_type": "code",
   "execution_count": null,
   "source": [
    "tf.random.set_seed(777)\n",
    "detected_train_formats = object_detection(model, dataset_list, dataset_path, output_path)"
   ],
   "outputs": [],
   "metadata": {}
  },
  {
   "cell_type": "code",
   "execution_count": null,
   "source": [
    "import pickle\n"
   ],
   "outputs": [],
   "metadata": {}
  },
  {
   "cell_type": "code",
   "execution_count": null,
   "source": [
    "# with open(\"detected_train_formats.p\", \"wb\") as out:\n",
    "#     pickle.dump(detected_train_formats, out)\n",
    "    "
   ],
   "outputs": [],
   "metadata": {}
  },
  {
   "cell_type": "code",
   "execution_count": null,
   "source": [
    "\n",
    "with open(\"./detected_train_formats.p\",\"rb\") as f:\n",
    "    detected_train_formats = pickle.load(f)\n",
    "\n",
    "from glob import glob\n",
    "image_path = [format[\"objectImagePath\"] for format in detected_train_formats]\n",
    "detected_images_train = [Image.open(path) for path in image_path]"
   ],
   "outputs": [],
   "metadata": {}
  },
  {
   "cell_type": "code",
   "execution_count": null,
   "source": [],
   "outputs": [],
   "metadata": {}
  },
  {
   "cell_type": "code",
   "execution_count": null,
   "source": [
    "from ImageRetrievalClass import ImageRetrievalClass\n",
    "\n",
    "retrievalInstance = ImageRetrievalClass(\"IncepResNet\", True, False)"
   ],
   "outputs": [],
   "metadata": {}
  },
  {
   "cell_type": "code",
   "execution_count": null,
   "source": [
    "retrievalInstance.readTrainSet(detected_images_train)"
   ],
   "outputs": [],
   "metadata": {}
  },
  {
   "cell_type": "code",
   "execution_count": null,
   "source": [
    "retrievalInstance.buildModel()"
   ],
   "outputs": [],
   "metadata": {}
  },
  {
   "cell_type": "code",
   "execution_count": null,
   "source": [
    "X_train = retrievalInstance.trainTransform()"
   ],
   "outputs": [],
   "metadata": {}
  },
  {
   "cell_type": "code",
   "execution_count": null,
   "source": [
    "np.save(\"./X_train.npy\",X_train)"
   ],
   "outputs": [],
   "metadata": {}
  },
  {
   "cell_type": "code",
   "execution_count": null,
   "source": [
    "E_train = retrievalInstance.predictTrain(X_train) # 연결이 끊기네... (256, 256)으로 바꾸니 해결됨"
   ],
   "outputs": [],
   "metadata": {}
  },
  {
   "cell_type": "markdown",
   "source": [
    "# 객체 각각의 npy 파일 저장"
   ],
   "metadata": {}
  },
  {
   "cell_type": "code",
   "execution_count": null,
   "source": [
    "for idx, format in enumerate(detected_train_formats):\n",
    "    filename = format[\"objectImagePath\"][36:-4]\n",
    "    npyFilename = \"./npyFiles/\"+filename+\".npy\"\n",
    "    np.save(npyFilename, E_train[idx])\n"
   ],
   "outputs": [],
   "metadata": {}
  },
  {
   "cell_type": "markdown",
   "source": [
    "# JSON 파일 저장"
   ],
   "metadata": {}
  },
  {
   "cell_type": "code",
   "execution_count": null,
   "source": [
    "import json\n",
    "for idx, format in enumerate(detected_train_formats):\n",
    "    npyFilename = \"./npyFiles/\"+format[\"objectImagePath\"][36:-4]+\".npy\"\n",
    "    jsonDict = {\n",
    "        \"objectID\":format[\"objectID\"],\n",
    "        \"location\":format[\"location\"],\n",
    "        \"tag\":format[\"tag\"],\n",
    "        \"objectImagePath\" : format[\"objectImagePath\"],\n",
    "        \"npyPath\": npyFilename,\n",
    "        \"IMG_URL\" : format[\"IMG_URL\"]\n",
    "    }\n",
    "\n",
    "    filename = \"./jsonFiles/\"+format[\"objectImagePath\"][36:-4]+\".json\"\n",
    "\n",
    "    with open(filename, \"w\") as outFile:\n",
    "        json.dump(jsonDict, outFile, indent=2)"
   ],
   "outputs": [],
   "metadata": {}
  },
  {
   "cell_type": "markdown",
   "source": [],
   "metadata": {}
  },
  {
   "cell_type": "markdown",
   "source": [],
   "metadata": {}
  },
  {
   "cell_type": "markdown",
   "source": [],
   "metadata": {}
  },
  {
   "cell_type": "markdown",
   "source": [],
   "metadata": {}
  },
  {
   "cell_type": "markdown",
   "source": [],
   "metadata": {}
  },
  {
   "cell_type": "markdown",
   "source": [],
   "metadata": {}
  },
  {
   "cell_type": "markdown",
   "source": [],
   "metadata": {}
  },
  {
   "cell_type": "markdown",
   "source": [],
   "metadata": {}
  }
 ],
 "metadata": {
  "orig_nbformat": 4,
  "language_info": {
   "name": "python",
   "version": "3.7.10",
   "mimetype": "text/x-python",
   "codemirror_mode": {
    "name": "ipython",
    "version": 3
   },
   "pygments_lexer": "ipython3",
   "nbconvert_exporter": "python",
   "file_extension": ".py"
  },
  "kernelspec": {
   "name": "python3",
   "display_name": "Python 3.7.10 64-bit ('tf2.4': conda)"
  },
  "interpreter": {
   "hash": "d72922318bc6f11802580474387ad924743addeb681068887155410179d24394"
  }
 },
 "nbformat": 4,
 "nbformat_minor": 2
}