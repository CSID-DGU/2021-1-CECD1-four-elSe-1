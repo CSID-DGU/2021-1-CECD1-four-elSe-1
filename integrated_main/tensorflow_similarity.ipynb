{
 "cells": [
  {
   "cell_type": "code",
   "execution_count": null,
   "metadata": {},
   "outputs": [],
   "source": [
    "from tensorflow.keras import layers\n",
    "\n",
    "# Embedding output layer with L2 norm\n",
    "from tensorflow_similarity.layers import MetricEmbedding \n",
    "# Specialized metric loss\n",
    "from tensorflow_similarity.losses import MultiSimilarityLoss \n",
    "# Sub classed keras Model with support for indexing\n",
    "from tensorflow_similarity.models import SimilarityModel\n",
    "# Data sampler that pulls datasets directly from tf dataset catalog\n",
    "from tensorflow_similarity.samplers import TFDatasetMultiShotMemorySampler\n",
    "# Nearest neighbor visualizer\n",
    "from tensorflow_similarity.visualization import viz_neigbors_imgs\n",
    "\n",
    "\n",
    "# Data sampler that generates balanced batches from MNIST dataset\n",
    "sampler = TFDatasetMultiShotMemorySampler(dataset_name='mnist', classes_per_batch=10)\n",
    "\n",
    "# Build a Similarity model using standard Keras layers\n",
    "inputs = layers.Input(shape=(28, 28, 1))\n",
    "x = layers.Rescaling(1/255)(inputs)\n",
    "x = layers.Conv2D(64, 3, activation='relu')(x)\n",
    "x = layers.Flatten()(x)\n",
    "x = layers.Dense(64, activation='relu')(x)\n",
    "outputs = MetricEmbedding(64)(x)\n",
    "\n",
    "# Build a specialized Similarity model\n",
    "model = SimilarityModel(inputs, outputs)\n",
    "\n",
    "# Train Similarity model using contrastive loss\n",
    "model.compile('adam', loss=MultiSimilarityLoss())\n",
    "model.fit(sampler, epochs=5)\n",
    "\n",
    "# Index 100 embedded MNIST examples to make them searchable\n",
    "sx, sy = sampler.get_slice(0,100)\n",
    "model.index(x=sx, y=sy, data=sx)\n",
    "\n",
    "# Find the top 5 most similar indexed MNIST examples for a given example\n",
    "qx, qy = sampler.get_slice(3713, 1)\n",
    "nns = model.single_lookup(qx[0])\n",
    "\n",
    "# Visualize the query example and its top 5 neighbors\n",
    "viz_neigbors_imgs(qx[0], qy[0], nns)"
   ]
  }
 ],
 "metadata": {
  "language_info": {
   "name": "python"
  },
  "orig_nbformat": 4
 },
 "nbformat": 4,
 "nbformat_minor": 2
}
