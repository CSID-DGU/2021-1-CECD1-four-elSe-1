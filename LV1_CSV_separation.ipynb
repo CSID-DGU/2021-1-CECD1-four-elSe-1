{
 "metadata": {
  "language_info": {
   "codemirror_mode": {
    "name": "ipython",
    "version": 3
   },
   "file_extension": ".py",
   "mimetype": "text/x-python",
   "name": "python",
   "nbconvert_exporter": "python",
   "pygments_lexer": "ipython3",
   "version": "3.7.3-final"
  },
  "orig_nbformat": 2,
  "kernelspec": {
   "name": "python373jvsc74a57bd0b3ba2566441a7c06988d0923437866b63cedc61552a5af99d1f4fb67d367b25f",
   "display_name": "Python 3.7.3 64-bit (conda)"
  }
 },
 "nbformat": 4,
 "nbformat_minor": 2,
 "cells": [
  {
   "cell_type": "code",
   "execution_count": 1,
   "metadata": {},
   "outputs": [],
   "source": [
    "import pandas as pd\n",
    "import numpy as np"
   ]
  },
  {
   "cell_type": "code",
   "execution_count": 2,
   "metadata": {},
   "outputs": [
    {
     "output_type": "execute_result",
     "data": {
      "text/plain": [
       "   PROD_ID                       PROD_NM      LV0   LV1             LV2  \\\n",
       "0   578214       바로크홈 Standard V30 매트리스D  침대/침실가구  매트리스  더블 (가로135~140)   \n",
       "1   578215  바로크홈 Standard S30 독립7존 매트리스D  침대/침실가구  매트리스  더블 (가로135~140)   \n",
       "2   543542            [스코나]필링 포켓매트리스(더블)  침대/침실가구  매트리스  더블 (가로135~140)   \n",
       "3   543535          [스코나]블루슬림 포켓매트리스(더블)  침대/침실가구  매트리스  더블 (가로135~140)   \n",
       "4   543529        [스코나]아쿠아볼 포켓매트리스(슈퍼싱글)  침대/침실가구  매트리스  더블 (가로135~140)   \n",
       "\n",
       "                                             IMG_URL           LV0_onehot  \\\n",
       "0  https://image.hanssem.com/hsimg//gds/550/578/5...  [0 0 0 0 0 0 0 0 1]   \n",
       "1  https://image.hanssem.com/hsimg//gds/550/578/5...  [0 0 0 0 0 0 0 0 1]   \n",
       "2  https://image.hanssem.com/hsimg//gds/550/543/5...  [0 0 0 0 0 0 0 0 1]   \n",
       "3  https://image.hanssem.com/hsimg//gds/550/543/5...  [0 0 0 0 0 0 0 0 1]   \n",
       "4  https://image.hanssem.com/hsimg//gds/550/543/5...  [0 0 0 0 0 0 0 0 1]   \n",
       "\n",
       "                                          LV1_onehot  \\\n",
       "0  [0 0 0 0 1 0 0 0 0 0 0 0 0 0 0 0 0 0 0 0 0 0 0...   \n",
       "1  [0 0 0 0 1 0 0 0 0 0 0 0 0 0 0 0 0 0 0 0 0 0 0...   \n",
       "2  [0 0 0 0 1 0 0 0 0 0 0 0 0 0 0 0 0 0 0 0 0 0 0...   \n",
       "3  [0 0 0 0 1 0 0 0 0 0 0 0 0 0 0 0 0 0 0 0 0 0 0...   \n",
       "4  [0 0 0 0 1 0 0 0 0 0 0 0 0 0 0 0 0 0 0 0 0 0 0...   \n",
       "\n",
       "                                          LV2_onehot  \n",
       "0  [0 0 0 0 0 0 0 0 0 0 0 0 0 0 0 0 0 0 0 0 0 0 0...  \n",
       "1  [0 0 0 0 0 0 0 0 0 0 0 0 0 0 0 0 0 0 0 0 0 0 0...  \n",
       "2  [0 0 0 0 0 0 0 0 0 0 0 0 0 0 0 0 0 0 0 0 0 0 0...  \n",
       "3  [0 0 0 0 0 0 0 0 0 0 0 0 0 0 0 0 0 0 0 0 0 0 0...  \n",
       "4  [0 0 0 0 0 0 0 0 0 0 0 0 0 0 0 0 0 0 0 0 0 0 0...  "
      ],
      "text/html": "<div>\n<style scoped>\n    .dataframe tbody tr th:only-of-type {\n        vertical-align: middle;\n    }\n\n    .dataframe tbody tr th {\n        vertical-align: top;\n    }\n\n    .dataframe thead th {\n        text-align: right;\n    }\n</style>\n<table border=\"1\" class=\"dataframe\">\n  <thead>\n    <tr style=\"text-align: right;\">\n      <th></th>\n      <th>PROD_ID</th>\n      <th>PROD_NM</th>\n      <th>LV0</th>\n      <th>LV1</th>\n      <th>LV2</th>\n      <th>IMG_URL</th>\n      <th>LV0_onehot</th>\n      <th>LV1_onehot</th>\n      <th>LV2_onehot</th>\n    </tr>\n  </thead>\n  <tbody>\n    <tr>\n      <th>0</th>\n      <td>578214</td>\n      <td>바로크홈 Standard V30 매트리스D</td>\n      <td>침대/침실가구</td>\n      <td>매트리스</td>\n      <td>더블 (가로135~140)</td>\n      <td>https://image.hanssem.com/hsimg//gds/550/578/5...</td>\n      <td>[0 0 0 0 0 0 0 0 1]</td>\n      <td>[0 0 0 0 1 0 0 0 0 0 0 0 0 0 0 0 0 0 0 0 0 0 0...</td>\n      <td>[0 0 0 0 0 0 0 0 0 0 0 0 0 0 0 0 0 0 0 0 0 0 0...</td>\n    </tr>\n    <tr>\n      <th>1</th>\n      <td>578215</td>\n      <td>바로크홈 Standard S30 독립7존 매트리스D</td>\n      <td>침대/침실가구</td>\n      <td>매트리스</td>\n      <td>더블 (가로135~140)</td>\n      <td>https://image.hanssem.com/hsimg//gds/550/578/5...</td>\n      <td>[0 0 0 0 0 0 0 0 1]</td>\n      <td>[0 0 0 0 1 0 0 0 0 0 0 0 0 0 0 0 0 0 0 0 0 0 0...</td>\n      <td>[0 0 0 0 0 0 0 0 0 0 0 0 0 0 0 0 0 0 0 0 0 0 0...</td>\n    </tr>\n    <tr>\n      <th>2</th>\n      <td>543542</td>\n      <td>[스코나]필링 포켓매트리스(더블)</td>\n      <td>침대/침실가구</td>\n      <td>매트리스</td>\n      <td>더블 (가로135~140)</td>\n      <td>https://image.hanssem.com/hsimg//gds/550/543/5...</td>\n      <td>[0 0 0 0 0 0 0 0 1]</td>\n      <td>[0 0 0 0 1 0 0 0 0 0 0 0 0 0 0 0 0 0 0 0 0 0 0...</td>\n      <td>[0 0 0 0 0 0 0 0 0 0 0 0 0 0 0 0 0 0 0 0 0 0 0...</td>\n    </tr>\n    <tr>\n      <th>3</th>\n      <td>543535</td>\n      <td>[스코나]블루슬림 포켓매트리스(더블)</td>\n      <td>침대/침실가구</td>\n      <td>매트리스</td>\n      <td>더블 (가로135~140)</td>\n      <td>https://image.hanssem.com/hsimg//gds/550/543/5...</td>\n      <td>[0 0 0 0 0 0 0 0 1]</td>\n      <td>[0 0 0 0 1 0 0 0 0 0 0 0 0 0 0 0 0 0 0 0 0 0 0...</td>\n      <td>[0 0 0 0 0 0 0 0 0 0 0 0 0 0 0 0 0 0 0 0 0 0 0...</td>\n    </tr>\n    <tr>\n      <th>4</th>\n      <td>543529</td>\n      <td>[스코나]아쿠아볼 포켓매트리스(슈퍼싱글)</td>\n      <td>침대/침실가구</td>\n      <td>매트리스</td>\n      <td>더블 (가로135~140)</td>\n      <td>https://image.hanssem.com/hsimg//gds/550/543/5...</td>\n      <td>[0 0 0 0 0 0 0 0 1]</td>\n      <td>[0 0 0 0 1 0 0 0 0 0 0 0 0 0 0 0 0 0 0 0 0 0 0...</td>\n      <td>[0 0 0 0 0 0 0 0 0 0 0 0 0 0 0 0 0 0 0 0 0 0 0...</td>\n    </tr>\n  </tbody>\n</table>\n</div>"
     },
     "metadata": {},
     "execution_count": 2
    }
   ],
   "source": [
    "df = pd.read_csv(\"onehot_type_ndarray.csv\")\n",
    "df.head()"
   ]
  },
  {
   "cell_type": "code",
   "execution_count": 3,
   "metadata": {},
   "outputs": [
    {
     "output_type": "execute_result",
     "data": {
      "text/plain": [
       "침구/커튼/러그    23875\n",
       "침대/침실가구     13048\n",
       "인테리어소가구      9661\n",
       "식탁/주방가구      5645\n",
       "옷장/붙박이장      4162\n",
       "소파/거실가구      3971\n",
       "조명           3435\n",
       "책장/책상/의자     2597\n",
       "유아동가구/용품      653\n",
       "Name: LV0, dtype: int64"
      ]
     },
     "metadata": {},
     "execution_count": 3
    }
   ],
   "source": [
    "df[\"LV0\"].value_counts()"
   ]
  },
  {
   "cell_type": "code",
   "execution_count": 4,
   "metadata": {},
   "outputs": [
    {
     "output_type": "execute_result",
     "data": {
      "text/plain": [
       "['소파/거실가구',\n",
       " '식탁/주방가구',\n",
       " '옷장/붙박이장',\n",
       " '유아동가구/용품',\n",
       " '인테리어소가구',\n",
       " '조명',\n",
       " '책장/책상/의자',\n",
       " '침구/커튼/러그',\n",
       " '침대/침실가구']"
      ]
     },
     "metadata": {},
     "execution_count": 4
    }
   ],
   "source": [
    "lv0_names = list(np.unique(df[\"LV0\"]))\n",
    "lv0_names"
   ]
  },
  {
   "cell_type": "code",
   "execution_count": 5,
   "metadata": {},
   "outputs": [
    {
     "output_type": "execute_result",
     "data": {
      "text/plain": [
       "['소파-거실가구',\n",
       " '식탁-주방가구',\n",
       " '옷장-붙박이장',\n",
       " '유아동가구-용품',\n",
       " '인테리어소가구',\n",
       " '조명',\n",
       " '책장-책상-의자',\n",
       " '침구-커튼-러그',\n",
       " '침대-침실가구']"
      ]
     },
     "metadata": {},
     "execution_count": 5
    }
   ],
   "source": [
    "lv0_names2 = []\n",
    "for lv0_name in lv0_names:\n",
    "    name = lv0_name.replace(\"/\",\"-\")\n",
    "    lv0_names2.append(name)\n",
    "lv0_names2"
   ]
  },
  {
   "source": [
    "---\n",
    "# 여기서부터 LV1 분리\n"
   ],
   "cell_type": "markdown",
   "metadata": {}
  },
  {
   "cell_type": "code",
   "execution_count": 7,
   "metadata": {},
   "outputs": [
    {
     "output_type": "execute_result",
     "data": {
      "text/plain": [
       "   PROD_ID                           PROD_NM      LV0    LV1         LV2  \\\n",
       "0    69103       [저스트모던]아드리안 하이그로시 거실장 Btype  소파/거실가구    거실장         일자형   \n",
       "1    69104       [저스트모던]아드리안 하이그로시 거실장 Atype  소파/거실가구    거실장         일자형   \n",
       "2    69105          [저스트모던] 라운드 하이그로시 거실장-레드  소파/거실가구    거실장         일자형   \n",
       "3    69106  [저스트모던]라운드 하이그로시 거실장셋트(2단협탁2개포함)  소파/거실가구    거실장         일자형   \n",
       "4    69128                 [오투] 노르웨지안 소파 테이블  소파/거실가구  거실테이블  원목/무늬목 테이블   \n",
       "\n",
       "                                             IMG_URL           LV0_onehot  \\\n",
       "0  https://image.hanssem.com/hsimg//gds/550/69/69...  [1 0 0 0 0 0 0 0 0]   \n",
       "1  https://image.hanssem.com/hsimg//gds/550/69/69...  [1 0 0 0 0 0 0 0 0]   \n",
       "2  https://image.hanssem.com/hsimg//gds/550/69/69...  [1 0 0 0 0 0 0 0 0]   \n",
       "3  https://image.hanssem.com/hsimg//gds/550/69/69...  [1 0 0 0 0 0 0 0 0]   \n",
       "4  https://image.hanssem.com/hsimg//gds/550/69/69...  [1 0 0 0 0 0 0 0 0]   \n",
       "\n",
       "                                          LV1_onehot  \\\n",
       "0  [1 0 0 0 0 0 0 0 0 0 0 0 0 0 0 0 0 0 0 0 0 0 0...   \n",
       "1  [1 0 0 0 0 0 0 0 0 0 0 0 0 0 0 0 0 0 0 0 0 0 0...   \n",
       "2  [1 0 0 0 0 0 0 0 0 0 0 0 0 0 0 0 0 0 0 0 0 0 0...   \n",
       "3  [1 0 0 0 0 0 0 0 0 0 0 0 0 0 0 0 0 0 0 0 0 0 0...   \n",
       "4  [0 1 0 0 0 0 0 0 0 0 0 0 0 0 0 0 0 0 0 0 0 0 0...   \n",
       "\n",
       "                                          LV2_onehot  \n",
       "0  [0 0 0 0 0 0 0 0 0 0 0 0 0 0 0 0 0 0 0 0 0 0 0...  \n",
       "1  [0 0 0 0 0 0 0 0 0 0 0 0 0 0 0 0 0 0 0 0 0 0 0...  \n",
       "2  [0 0 0 0 0 0 0 0 0 0 0 0 0 0 0 0 0 0 0 0 0 0 0...  \n",
       "3  [0 0 0 0 0 0 0 0 0 0 0 0 0 0 0 0 0 0 0 0 0 0 0...  \n",
       "4  [0 0 0 0 0 0 0 0 0 0 0 0 0 0 0 0 0 0 0 0 0 0 0...  "
      ],
      "text/html": "<div>\n<style scoped>\n    .dataframe tbody tr th:only-of-type {\n        vertical-align: middle;\n    }\n\n    .dataframe tbody tr th {\n        vertical-align: top;\n    }\n\n    .dataframe thead th {\n        text-align: right;\n    }\n</style>\n<table border=\"1\" class=\"dataframe\">\n  <thead>\n    <tr style=\"text-align: right;\">\n      <th></th>\n      <th>PROD_ID</th>\n      <th>PROD_NM</th>\n      <th>LV0</th>\n      <th>LV1</th>\n      <th>LV2</th>\n      <th>IMG_URL</th>\n      <th>LV0_onehot</th>\n      <th>LV1_onehot</th>\n      <th>LV2_onehot</th>\n    </tr>\n  </thead>\n  <tbody>\n    <tr>\n      <th>0</th>\n      <td>69103</td>\n      <td>[저스트모던]아드리안 하이그로시 거실장 Btype</td>\n      <td>소파/거실가구</td>\n      <td>거실장</td>\n      <td>일자형</td>\n      <td>https://image.hanssem.com/hsimg//gds/550/69/69...</td>\n      <td>[1 0 0 0 0 0 0 0 0]</td>\n      <td>[1 0 0 0 0 0 0 0 0 0 0 0 0 0 0 0 0 0 0 0 0 0 0...</td>\n      <td>[0 0 0 0 0 0 0 0 0 0 0 0 0 0 0 0 0 0 0 0 0 0 0...</td>\n    </tr>\n    <tr>\n      <th>1</th>\n      <td>69104</td>\n      <td>[저스트모던]아드리안 하이그로시 거실장 Atype</td>\n      <td>소파/거실가구</td>\n      <td>거실장</td>\n      <td>일자형</td>\n      <td>https://image.hanssem.com/hsimg//gds/550/69/69...</td>\n      <td>[1 0 0 0 0 0 0 0 0]</td>\n      <td>[1 0 0 0 0 0 0 0 0 0 0 0 0 0 0 0 0 0 0 0 0 0 0...</td>\n      <td>[0 0 0 0 0 0 0 0 0 0 0 0 0 0 0 0 0 0 0 0 0 0 0...</td>\n    </tr>\n    <tr>\n      <th>2</th>\n      <td>69105</td>\n      <td>[저스트모던] 라운드 하이그로시 거실장-레드</td>\n      <td>소파/거실가구</td>\n      <td>거실장</td>\n      <td>일자형</td>\n      <td>https://image.hanssem.com/hsimg//gds/550/69/69...</td>\n      <td>[1 0 0 0 0 0 0 0 0]</td>\n      <td>[1 0 0 0 0 0 0 0 0 0 0 0 0 0 0 0 0 0 0 0 0 0 0...</td>\n      <td>[0 0 0 0 0 0 0 0 0 0 0 0 0 0 0 0 0 0 0 0 0 0 0...</td>\n    </tr>\n    <tr>\n      <th>3</th>\n      <td>69106</td>\n      <td>[저스트모던]라운드 하이그로시 거실장셋트(2단협탁2개포함)</td>\n      <td>소파/거실가구</td>\n      <td>거실장</td>\n      <td>일자형</td>\n      <td>https://image.hanssem.com/hsimg//gds/550/69/69...</td>\n      <td>[1 0 0 0 0 0 0 0 0]</td>\n      <td>[1 0 0 0 0 0 0 0 0 0 0 0 0 0 0 0 0 0 0 0 0 0 0...</td>\n      <td>[0 0 0 0 0 0 0 0 0 0 0 0 0 0 0 0 0 0 0 0 0 0 0...</td>\n    </tr>\n    <tr>\n      <th>4</th>\n      <td>69128</td>\n      <td>[오투] 노르웨지안 소파 테이블</td>\n      <td>소파/거실가구</td>\n      <td>거실테이블</td>\n      <td>원목/무늬목 테이블</td>\n      <td>https://image.hanssem.com/hsimg//gds/550/69/69...</td>\n      <td>[1 0 0 0 0 0 0 0 0]</td>\n      <td>[0 1 0 0 0 0 0 0 0 0 0 0 0 0 0 0 0 0 0 0 0 0 0...</td>\n      <td>[0 0 0 0 0 0 0 0 0 0 0 0 0 0 0 0 0 0 0 0 0 0 0...</td>\n    </tr>\n  </tbody>\n</table>\n</div>"
     },
     "metadata": {},
     "execution_count": 7
    }
   ],
   "source": [
    "\n",
    "df2 = pd.read_csv(\"./csv/소파-거실가구/소파-거실가구.csv\")\n",
    "df2.head()"
   ]
  },
  {
   "cell_type": "code",
   "execution_count": 13,
   "metadata": {},
   "outputs": [
    {
     "output_type": "execute_result",
     "data": {
      "text/plain": [
       "['거실장', '거실테이블', '소파']"
      ]
     },
     "metadata": {},
     "execution_count": 13
    }
   ],
   "source": [
    "lv1_names = list(df2[\"LV1\"].unique())\n",
    "lv1_names"
   ]
  },
  {
   "cell_type": "code",
   "execution_count": 15,
   "metadata": {},
   "outputs": [],
   "source": [
    "for lv1_name in lv1_names:\n",
    "    df2[df2[\"LV1\"]==lv1_name].to_csv(f\"./csv/소파-거실가구/{lv1_name}.csv\",index=False, encoding=\"utf-8-sig\")"
   ]
  },
  {
   "cell_type": "code",
   "execution_count": 19,
   "metadata": {},
   "outputs": [],
   "source": [
    "for lv0_name in lv0_names2:\n",
    "    df2 = pd.read_csv(f\"./csv/{lv0_name}/{lv0_name}.csv\")\n",
    "    lv1_names = list(df2[\"LV1\"].unique())\n",
    "    for lv1_name in lv1_names:\n",
    "        df2[df2[\"LV1\"]==lv1_name].to_csv(f\"./csv/{lv0_name}/{lv1_name}.csv\",index=False, encoding=\"utf-8-sig\")"
   ]
  },
  {
   "cell_type": "code",
   "execution_count": null,
   "metadata": {},
   "outputs": [],
   "source": []
  }
 ]
}