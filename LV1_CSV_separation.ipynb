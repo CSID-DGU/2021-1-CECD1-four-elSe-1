{
 "metadata": {
  "language_info": {
   "codemirror_mode": {
    "name": "ipython",
    "version": 3
   },
   "file_extension": ".py",
   "mimetype": "text/x-python",
   "name": "python",
   "nbconvert_exporter": "python",
   "pygments_lexer": "ipython3",
   "version": "3.7.3-final"
  },
  "orig_nbformat": 2,
  "kernelspec": {
   "name": "python373jvsc74a57bd0b3ba2566441a7c06988d0923437866b63cedc61552a5af99d1f4fb67d367b25f",
   "display_name": "Python 3.7.3 64-bit (conda)"
  }
 },
 "nbformat": 4,
 "nbformat_minor": 2,
 "cells": [
  {
   "cell_type": "code",
   "execution_count": 1,
   "metadata": {},
   "outputs": [],
   "source": [
    "import pandas as pd\n",
    "import os\n",
    "from glob import glob\n",
    "from PIL import Image\n",
    "import matplotlib.pyplot as plt\n",
    "import cv2\n",
    "\n",
    "from urllib import request\n",
    "import urllib\n",
    "from io import BytesIO\n",
    "import numpy as np\n",
    "from skimage import io\n",
    "from tqdm import tqdm\n",
    "import pickle"
   ]
  },
  {
   "cell_type": "code",
   "execution_count": 3,
   "metadata": {},
   "outputs": [
    {
     "output_type": "execute_result",
     "data": {
      "text/plain": [
       "   PROD_ID                                     PROD_NM       LV0 LV1  \\\n",
       "0   366952        [위필] 천연라텍스 매트리스 [통몰드] 15cm 퀸(Q) 풀 세트  침구/커튼/러그  침구   \n",
       "1   366953    [위필] 천연라텍스 매트리스 [통몰드] 15cm 슈퍼싱글(SS) 풀 세트  침구/커튼/러그  침구   \n",
       "2   367046             위필 천연라텍스 5T 미니 싱글 매트리스 오가닉커버 증정  침구/커튼/러그  침구   \n",
       "3   366984      [위필] 천연라텍스 매트리스 [통몰드] 7.5cm 퀸 (Q) 풀 세트  침구/커튼/러그  침구   \n",
       "4   366985  [위필] 천연라텍스 매트리스 [통몰드] 7.5cm 슈퍼싱글 (SS) 풀 세트  침구/커튼/러그  침구   \n",
       "\n",
       "           LV2                                            IMG_URL  \\\n",
       "0  라텍스/메모리폼 매트  https://image.hanssem.com/hsimg//gds/550/366/3...   \n",
       "1  라텍스/메모리폼 매트  https://image.hanssem.com/hsimg//gds/550/366/3...   \n",
       "2  라텍스/메모리폼 매트  https://image.hanssem.com/hsimg//gds/550/367/3...   \n",
       "3  라텍스/메모리폼 매트  https://image.hanssem.com/hsimg//gds/550/366/3...   \n",
       "4  라텍스/메모리폼 매트  https://image.hanssem.com/hsimg//gds/550/366/3...   \n",
       "\n",
       "            LV0_onehot                                         LV1_onehot  \\\n",
       "0  [0 0 0 0 0 0 0 1 0]  [0 0 0 0 0 0 0 0 0 0 0 0 0 0 0 0 0 0 0 0 0 1 0...   \n",
       "1  [0 0 0 0 0 0 0 1 0]  [0 0 0 0 0 0 0 0 0 0 0 0 0 0 0 0 0 0 0 0 0 1 0...   \n",
       "2  [0 0 0 0 0 0 0 1 0]  [0 0 0 0 0 0 0 0 0 0 0 0 0 0 0 0 0 0 0 0 0 1 0...   \n",
       "3  [0 0 0 0 0 0 0 1 0]  [0 0 0 0 0 0 0 0 0 0 0 0 0 0 0 0 0 0 0 0 0 1 0...   \n",
       "4  [0 0 0 0 0 0 0 1 0]  [0 0 0 0 0 0 0 0 0 0 0 0 0 0 0 0 0 0 0 0 0 1 0...   \n",
       "\n",
       "                                          LV2_onehot  \n",
       "0  [0 0 0 0 0 0 0 0 0 0 0 0 0 0 0 0 0 0 0 0 0 0 0...  \n",
       "1  [0 0 0 0 0 0 0 0 0 0 0 0 0 0 0 0 0 0 0 0 0 0 0...  \n",
       "2  [0 0 0 0 0 0 0 0 0 0 0 0 0 0 0 0 0 0 0 0 0 0 0...  \n",
       "3  [0 0 0 0 0 0 0 0 0 0 0 0 0 0 0 0 0 0 0 0 0 0 0...  \n",
       "4  [0 0 0 0 0 0 0 0 0 0 0 0 0 0 0 0 0 0 0 0 0 0 0...  "
      ],
      "text/html": "<div>\n<style scoped>\n    .dataframe tbody tr th:only-of-type {\n        vertical-align: middle;\n    }\n\n    .dataframe tbody tr th {\n        vertical-align: top;\n    }\n\n    .dataframe thead th {\n        text-align: right;\n    }\n</style>\n<table border=\"1\" class=\"dataframe\">\n  <thead>\n    <tr style=\"text-align: right;\">\n      <th></th>\n      <th>PROD_ID</th>\n      <th>PROD_NM</th>\n      <th>LV0</th>\n      <th>LV1</th>\n      <th>LV2</th>\n      <th>IMG_URL</th>\n      <th>LV0_onehot</th>\n      <th>LV1_onehot</th>\n      <th>LV2_onehot</th>\n    </tr>\n  </thead>\n  <tbody>\n    <tr>\n      <th>0</th>\n      <td>366952</td>\n      <td>[위필] 천연라텍스 매트리스 [통몰드] 15cm 퀸(Q) 풀 세트</td>\n      <td>침구/커튼/러그</td>\n      <td>침구</td>\n      <td>라텍스/메모리폼 매트</td>\n      <td>https://image.hanssem.com/hsimg//gds/550/366/3...</td>\n      <td>[0 0 0 0 0 0 0 1 0]</td>\n      <td>[0 0 0 0 0 0 0 0 0 0 0 0 0 0 0 0 0 0 0 0 0 1 0...</td>\n      <td>[0 0 0 0 0 0 0 0 0 0 0 0 0 0 0 0 0 0 0 0 0 0 0...</td>\n    </tr>\n    <tr>\n      <th>1</th>\n      <td>366953</td>\n      <td>[위필] 천연라텍스 매트리스 [통몰드] 15cm 슈퍼싱글(SS) 풀 세트</td>\n      <td>침구/커튼/러그</td>\n      <td>침구</td>\n      <td>라텍스/메모리폼 매트</td>\n      <td>https://image.hanssem.com/hsimg//gds/550/366/3...</td>\n      <td>[0 0 0 0 0 0 0 1 0]</td>\n      <td>[0 0 0 0 0 0 0 0 0 0 0 0 0 0 0 0 0 0 0 0 0 1 0...</td>\n      <td>[0 0 0 0 0 0 0 0 0 0 0 0 0 0 0 0 0 0 0 0 0 0 0...</td>\n    </tr>\n    <tr>\n      <th>2</th>\n      <td>367046</td>\n      <td>위필 천연라텍스 5T 미니 싱글 매트리스 오가닉커버 증정</td>\n      <td>침구/커튼/러그</td>\n      <td>침구</td>\n      <td>라텍스/메모리폼 매트</td>\n      <td>https://image.hanssem.com/hsimg//gds/550/367/3...</td>\n      <td>[0 0 0 0 0 0 0 1 0]</td>\n      <td>[0 0 0 0 0 0 0 0 0 0 0 0 0 0 0 0 0 0 0 0 0 1 0...</td>\n      <td>[0 0 0 0 0 0 0 0 0 0 0 0 0 0 0 0 0 0 0 0 0 0 0...</td>\n    </tr>\n    <tr>\n      <th>3</th>\n      <td>366984</td>\n      <td>[위필] 천연라텍스 매트리스 [통몰드] 7.5cm 퀸 (Q) 풀 세트</td>\n      <td>침구/커튼/러그</td>\n      <td>침구</td>\n      <td>라텍스/메모리폼 매트</td>\n      <td>https://image.hanssem.com/hsimg//gds/550/366/3...</td>\n      <td>[0 0 0 0 0 0 0 1 0]</td>\n      <td>[0 0 0 0 0 0 0 0 0 0 0 0 0 0 0 0 0 0 0 0 0 1 0...</td>\n      <td>[0 0 0 0 0 0 0 0 0 0 0 0 0 0 0 0 0 0 0 0 0 0 0...</td>\n    </tr>\n    <tr>\n      <th>4</th>\n      <td>366985</td>\n      <td>[위필] 천연라텍스 매트리스 [통몰드] 7.5cm 슈퍼싱글 (SS) 풀 세트</td>\n      <td>침구/커튼/러그</td>\n      <td>침구</td>\n      <td>라텍스/메모리폼 매트</td>\n      <td>https://image.hanssem.com/hsimg//gds/550/366/3...</td>\n      <td>[0 0 0 0 0 0 0 1 0]</td>\n      <td>[0 0 0 0 0 0 0 0 0 0 0 0 0 0 0 0 0 0 0 0 0 1 0...</td>\n      <td>[0 0 0 0 0 0 0 0 0 0 0 0 0 0 0 0 0 0 0 0 0 0 0...</td>\n    </tr>\n  </tbody>\n</table>\n</div>"
     },
     "metadata": {},
     "execution_count": 3
    }
   ],
   "source": [
    "lv1_df = pd.read_csv(\"./csv/침구-커튼-러그/침구-커튼-러그.csv\")\n",
    "lv1_df.head()"
   ]
  },
  {
   "cell_type": "code",
   "execution_count": null,
   "metadata": {},
   "outputs": [],
   "source": []
  }
 ]
}