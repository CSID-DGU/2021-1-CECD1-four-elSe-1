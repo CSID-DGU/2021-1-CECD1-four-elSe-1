{
  "nbformat": 4,
  "nbformat_minor": 0,
  "metadata": {
    "colab": {
      "name": "origin_data_analysis.ipynb",
      "provenance": [],
      "collapsed_sections": [],
      "include_colab_link": true
    },
    "kernelspec": {
      "name": "python3",
      "display_name": "Python 3"
    },
    "language_info": {
      "name": "python"
    }
  },
  "cells": [
    {
      "cell_type": "markdown",
      "metadata": {
        "id": "view-in-github",
        "colab_type": "text"
      },
      "source": [
        "<a href=\"https://colab.research.google.com/github/SeungMinSong2929/2021-1-CECD3-four-elSe-1/blob/master/origin_data_analysis.ipynb\" target=\"_parent\"><img src=\"https://colab.research.google.com/assets/colab-badge.svg\" alt=\"Open In Colab\"/></a>"
      ]
    },
    {
      "cell_type": "markdown",
      "metadata": {
        "id": "RZqL9P95rH0B"
      },
      "source": [
        "# 원본 데이터 분석\n",
        "\n",
        "* null값 확인\n",
        "* LV0, LV1, LV2 라벨 종류와 데이터 개수 txt 파일로 저장"
      ]
    },
    {
      "cell_type": "code",
      "metadata": {
        "colab": {
          "base_uri": "https://localhost:8080/"
        },
        "id": "ZkayjTmCGqqv",
        "outputId": "816f610c-7df6-49bf-ef33-1001d115a98a"
      },
      "source": [
        "#드라이브에 접근할 수 있도록 아래 코드 입력\n",
        "from google.colab import drive\n",
        "drive.mount('/content/drive')"
      ],
      "execution_count": null,
      "outputs": [
        {
          "output_type": "stream",
          "text": [
            "Mounted at /content/drive\n"
          ],
          "name": "stdout"
        }
      ]
    },
    {
      "cell_type": "markdown",
      "metadata": {
        "id": "CzME4-MPn6AE"
      },
      "source": [
        "## 데이터 불러오기"
      ]
    },
    {
      "cell_type": "markdown",
      "metadata": {
        "id": "37HUkmqNoZUC"
      },
      "source": [
        "### 본인 파일 경로를 기본 경로로 저장"
      ]
    },
    {
      "cell_type": "code",
      "metadata": {
        "id": "3zwZz0OloTU-"
      },
      "source": [
        "# 원본 데이터가 있는 기본 경로 저장.\n",
        "filePath = \"/content/drive/My Drive/forElse\""
      ],
      "execution_count": null,
      "outputs": []
    },
    {
      "cell_type": "code",
      "metadata": {
        "colab": {
          "base_uri": "https://localhost:8080/",
          "height": 195
        },
        "id": "8vqgRTadHWTE",
        "outputId": "8bbd5a8e-44d9-49e7-a64a-893a169c1a62"
      },
      "source": [
        "import pandas as pd\n",
        "\n",
        "# hanssem_product_images.UTF-8.csv\n",
        "origin_data = pd.read_csv(filePath+\"/hanssem_product_images_UTF8.csv\")\n",
        "origin_data.head()"
      ],
      "execution_count": null,
      "outputs": [
        {
          "output_type": "execute_result",
          "data": {
            "text/html": [
              "<div>\n",
              "<style scoped>\n",
              "    .dataframe tbody tr th:only-of-type {\n",
              "        vertical-align: middle;\n",
              "    }\n",
              "\n",
              "    .dataframe tbody tr th {\n",
              "        vertical-align: top;\n",
              "    }\n",
              "\n",
              "    .dataframe thead th {\n",
              "        text-align: right;\n",
              "    }\n",
              "</style>\n",
              "<table border=\"1\" class=\"dataframe\">\n",
              "  <thead>\n",
              "    <tr style=\"text-align: right;\">\n",
              "      <th></th>\n",
              "      <th>PROD_ID</th>\n",
              "      <th>PROD_NM</th>\n",
              "      <th>LV0</th>\n",
              "      <th>LV1</th>\n",
              "      <th>LV2</th>\n",
              "      <th>IMG_URL</th>\n",
              "    </tr>\n",
              "  </thead>\n",
              "  <tbody>\n",
              "    <tr>\n",
              "      <th>0</th>\n",
              "      <td>578214</td>\n",
              "      <td>바로크홈 Standard V30 매트리스D</td>\n",
              "      <td>침대/침실가구</td>\n",
              "      <td>매트리스</td>\n",
              "      <td>더블 (가로135~140)</td>\n",
              "      <td>https://image.hanssem.com/hsimg//gds/550/578/5...</td>\n",
              "    </tr>\n",
              "    <tr>\n",
              "      <th>1</th>\n",
              "      <td>578215</td>\n",
              "      <td>바로크홈 Standard S30 독립7존 매트리스D</td>\n",
              "      <td>침대/침실가구</td>\n",
              "      <td>매트리스</td>\n",
              "      <td>더블 (가로135~140)</td>\n",
              "      <td>https://image.hanssem.com/hsimg//gds/550/578/5...</td>\n",
              "    </tr>\n",
              "    <tr>\n",
              "      <th>2</th>\n",
              "      <td>543542</td>\n",
              "      <td>[스코나]필링 포켓매트리스(더블)</td>\n",
              "      <td>침대/침실가구</td>\n",
              "      <td>매트리스</td>\n",
              "      <td>더블 (가로135~140)</td>\n",
              "      <td>https://image.hanssem.com/hsimg//gds/550/543/5...</td>\n",
              "    </tr>\n",
              "    <tr>\n",
              "      <th>3</th>\n",
              "      <td>543535</td>\n",
              "      <td>[스코나]블루슬림 포켓매트리스(더블)</td>\n",
              "      <td>침대/침실가구</td>\n",
              "      <td>매트리스</td>\n",
              "      <td>더블 (가로135~140)</td>\n",
              "      <td>https://image.hanssem.com/hsimg//gds/550/543/5...</td>\n",
              "    </tr>\n",
              "    <tr>\n",
              "      <th>4</th>\n",
              "      <td>543529</td>\n",
              "      <td>[스코나]아쿠아볼 포켓매트리스(슈퍼싱글)</td>\n",
              "      <td>침대/침실가구</td>\n",
              "      <td>매트리스</td>\n",
              "      <td>더블 (가로135~140)</td>\n",
              "      <td>https://image.hanssem.com/hsimg//gds/550/543/5...</td>\n",
              "    </tr>\n",
              "  </tbody>\n",
              "</table>\n",
              "</div>"
            ],
            "text/plain": [
              "   PROD_ID  ...                                            IMG_URL\n",
              "0   578214  ...  https://image.hanssem.com/hsimg//gds/550/578/5...\n",
              "1   578215  ...  https://image.hanssem.com/hsimg//gds/550/578/5...\n",
              "2   543542  ...  https://image.hanssem.com/hsimg//gds/550/543/5...\n",
              "3   543535  ...  https://image.hanssem.com/hsimg//gds/550/543/5...\n",
              "4   543529  ...  https://image.hanssem.com/hsimg//gds/550/543/5...\n",
              "\n",
              "[5 rows x 6 columns]"
            ]
          },
          "metadata": {
            "tags": []
          },
          "execution_count": 4
        }
      ]
    },
    {
      "cell_type": "markdown",
      "metadata": {
        "id": "cohXs7NCn9Cm"
      },
      "source": [
        "## 데이터 구성 파악하기"
      ]
    },
    {
      "cell_type": "code",
      "metadata": {
        "colab": {
          "base_uri": "https://localhost:8080/"
        },
        "id": "kpyysgRIKEVg",
        "outputId": "67fbb907-19d9-44c4-a52b-14c5561e055e"
      },
      "source": [
        "LV0_data= list(set(origin_data['LV0']))\n",
        "LV1_data= list(set(origin_data['LV1']))\n",
        "LV2_data= list(set(origin_data['LV2']))\n",
        "print(\"LV0_data\\t 총 \", len(LV0_data), \"개\", LV0_data)\n",
        "print(\"==========\"*3)\n",
        "print(\"LV1_data\\t 총 \", len(LV1_data), \"개\", LV1_data)\n",
        "print(\"==========\"*3)\n",
        "print(\"LV2_data\\t 총 \", len(LV2_data), \"개\", LV2_data)\n",
        "print(\"==========\"*3)"
      ],
      "execution_count": null,
      "outputs": [
        {
          "output_type": "stream",
          "text": [
            "LV0_data\t 총  9 개 ['소파/거실가구', '옷장/붙박이장', '유아동가구/용품', '조명', '식탁/주방가구', '책장/책상/의자', '인테리어소가구', '침대/침실가구', '침구/커튼/러그']\n",
            "==============================\n",
            "LV1_data\t 총  27 개 ['러그', '스탠드조명', '드레스룸', '침구', '방조명', '거실장', '커튼', '주방수납', '블라인드', '유아매트', '매트리스', '수납장', '침대', '소파', '식탁의자', '책장', '의자', '바체어', '수납', '거실테이블', '포인트조명', '테이블조명', '식탁', '옷장', '테이블', '책상', '붙박이장']\n",
            "==============================\n",
            "LV2_data\t 총  294 개 ['스툴', '커튼(극세사/방한커튼)', '일반책장', '├ 바이엘 슬라이딩 옷장', '└ 바이엘 키큰옷장', '높은거실장/수납장', '원형러그', '폴더매트', '우드', '한샘책상', '높이_ 6단 이상', '여닫이 옷장', '유아의자', '로만쉐이드', 'Q/D/K(도트/패턴)', '벤치의자', '시스템거실장', '높이_2/3단', '한샘책장', '침대 액세서리', '방수커버/매트리스커버', '기능성 책상', '수납장/캐비넷', '발매트', 'SS+SS 침대', '수납_ 전면 책상', '플로어조명', '디자인 의자', '주방 수납장', 'S/SS(차렵)', 'S/SS(러블리/플라워)', '패브릭매트', '철제수납장', '전면책장', '플라스틱', '신소재소파', '베개/베캐커버', '수납_ 책상+책장', '├ 아임빅 슬라이딩 옷장', '이층/벙커 침대', '가로 40~50cm', '바란스/캐노피/가리개', '베개', '커튼(투톤/기타)', '아일랜드 식탁의자', 'Q/D/K(무지/솔리드)', '선반장/장식장', '요이불세트', '기타/조명ACC', '한샘 거실테이블', '높이_4/5단', '이불커버', '베개커버(무지/솔리드)', '극세사이불', 'S/SS(체크/스트라이프)', '소파패드', '허니콤 블라인드', 'Q/D/K(체크/스트라이프)', '면러그/워싱카페트', '스툴/좌식의자', '가로 90cm', '기타', '목대드레스룸(깊이40cm)', 'Q/D/K(차렵)', '높이_ 1~3단', '테이블조명', '┌ 글로우 슬라이딩 옷장', '6인이상', '패드/스프레드', 'Q/SS 단독형침대', '매트리스커버', '텐트/놀이집', '대리석', '천연가죽', 'Q+Q 침대', '벽선반', '깊이 60cm', 'PVC매트/요가매트/여름자리', '네추럴(우드)', 'LED스탠드 ', '아기침대', '1~3단 서랍장/협탁', '우드 블라인드', '책장 도어액세서리', '철제 수납장', '철제선반장', '└ 피카 슬라이딩 옷장', '행거/선반형', '2~3단', '더블 (가로135~140)', '패브릭', '책꽂이', 'Q/D/K(캐릭터/일러스트)', '베개/매트커버', '침구세트', '토퍼', '하이그로시', '커튼(무지/솔리드)', '기저귀수납', '엑세서리옵션', '서재/사무용 의자', '행거', '액세서리 옵션', '우드/내추럴', '패브릭소파', '싱글침대 모아보기', '서랍형 책상', '원목선반장', '리프트업 테이블', 'Q/D/K(광목/린넨 내츄럴)', '침대', '가로 40cm', '수유등/무드등', 'S/SS(극세사)', '킹 (가로160 이상)', '이동서랍장', '가죽', '┌ 피카 키큰옷장', '암막커튼(무지/솔리드)', '소파 패키지 초특가', '아동 의자', '센서등', 'S/SS(홑이불)', '한샘 유아매트/텐트', '2-3인용', 'Q/D/K(러블리/플라워)', '4~6단', '무헤드/기본 침대', '사이잘카페트', '일반등', '한샘수납장', '너비 60cm 이하', '수납_ h형(책장형) 책상', '2인용 책상', '옷장', '원목 침대', '독서실 책상', '암막커튼(북유럽/프린팅)', '목대형 드레스룸', 'Q/D/K(홑이불)', '요/요커버', '롤업커튼', '레일조명', '각도조절책상', '송치카페트', '알러지 기능성 카페트', '콤비 블라인드', '모던', '선반/장', '좌식 책상', '1인용', '4~6단 서랍장', '디자인러그', 'S/SS(광목/린넨 내츄럴)', '프레임/갤러리', 'S/SS(일러스트/캐릭터)', '커튼(키즈/캐릭터)', '커튼(자수)', '협탁', '베개커버(프린팅/일러스트)', '화장대/서랍장', '확장형/기능성식탁', '목대드레스룸(깊이60cm)', '커튼(레이스/쉬폰/속커튼)', '서랍/수납형', '베이직러그(솔리드)', '가로 40~60cm', '4인용 이상', '가로 80cm', '롤스크린', '가죽소파', '가로 65~120cm', '와이드 서랍장', '커튼(린넨)', '이층/벙커침대', '4인용', '책장 수납액세서리', '패브릭 침대', '너비_ 130cm 이상', '5인 이상', 'S/SS(무지/솔리드)', '커튼(러블리/플라워)', '화장대', '스탠드 조명', '사이드 테이블', '2인', '일자형', '학습 의자', '가로 100cm 이상', '암막커튼(투톤/기타)', '가로 80 ~ 100cm', 'Q/D/K 극세사', '식탁의자', '안락/중역용 의자', '수납 액세서리', '책장', '바체어', '옷장세트', '장식장', '라텍스/메모리폼 매트', '샤기카페트', '혼수/예단침구', '원목 수납장', '책상 액세서리', '거실조명', '책상의자', '스툴/소파ACC', '킹침대 모아보기', '너비_1m이상', '테이블/플로어 세트 PKG', '합성가죽', '유리/대리석 테이블', '스틸드레스룸(깊이40cm)', '여닫이 붙박이장', '베이비장(낮은옷장)', '매트 액세서리', '원목/무늬목 테이블', '유아책상', '한샘 옷장', '높이_ 4~5단', '슬라이딩 붙박이장', '빈티지(유리/스틸)', '퀸 (가로150)', '거울/커튼형', '식탁', '기능성 침구 기타', '기능성 침대', '침구단품', '너비_100cm이하', '2~3인용', '너비_ 90~120cm ', '침대가드/ACC', '이동/서랍장', '일자형 책상', '천연가죽소파', '커튼(북유럽/프린팅)', '원목수납장', '돌/흙침대보료', '슬라이딩 옷장', '트리플 블라인드', '베개커버(솜포함)', '유아소파', '틈새 옷장', 'Q/D/K(호텔/럭셔리)', '방등', '옷장액세서리', '너비_60cm미만', '방조명', 'LED 침대', '주방수납장', '합성가죽소파', '가죽 침대', '바테이블', '이불/베개/패드', '암막커튼(러블리/플라워)', '슈퍼싱글 (가로110)', '확장형', '빈백', '철제', '장난감수납', '틈새 수납장', 'S/SS(도트/패턴)', 'Q+SS 침대', '범퍼침대', '더블침대 모아보기', '소파', '기능성 의자', '신발장', '헤드레스트/스툴/소파ACC', '키즈/캐릭터 매트', '컴퓨터 책상', '너비_90cm미만', '철제형 드레스룸', '프린팅 러그(DTP)', '차렵이불', '램프등/샹들리에', '너비_60cm이상~1m미만', '옷장 세트', '벽등/포인트등', '주방조명', '4인', '스틸 침대', '너비_ 70~80cm ', '커튼봉/액세서리', '수납 침대', '의자 액세서리', '알루미늄 블라인드', '책장/신발장', '싱글 (가로110 미만)', '주니어장(높은옷장)', '서랍장', '클램프/집게형 조명', '렌지대', '틈새수납장']\n",
            "==============================\n"
          ],
          "name": "stdout"
        }
      ]
    },
    {
      "cell_type": "markdown",
      "metadata": {
        "id": "WUQdWBquoAb0"
      },
      "source": [
        "## null값 확인"
      ]
    },
    {
      "cell_type": "code",
      "metadata": {
        "colab": {
          "base_uri": "https://localhost:8080/"
        },
        "id": "lKJ4991mN21O",
        "outputId": "b6c49e51-3fac-4368-a8c9-7eb420601672"
      },
      "source": [
        "# origin_data의 null값 확인\n",
        "origin_data.isnull().sum()"
      ],
      "execution_count": null,
      "outputs": [
        {
          "output_type": "execute_result",
          "data": {
            "text/plain": [
              "PROD_ID    0\n",
              "PROD_NM    0\n",
              "LV0        0\n",
              "LV1        0\n",
              "LV2        0\n",
              "IMG_URL    6\n",
              "dtype: int64"
            ]
          },
          "metadata": {
            "tags": []
          },
          "execution_count": 6
        }
      ]
    },
    {
      "cell_type": "markdown",
      "metadata": {
        "id": "TvnVGEphoGAd"
      },
      "source": [
        "## 데이터 정보를 저장할 새로운 경로 생성\n",
        "\n",
        "파일 이름: dataInfo <br>\n",
        "dataInfo 파일에 Lv0, LV1, LV2 데이터 종류와 개수를 txt 파일로 저장."
      ]
    },
    {
      "cell_type": "code",
      "metadata": {
        "id": "z7Kq4-FMg5dK"
      },
      "source": [
        "# 새 파일 디릭토리 생성\n",
        "import os\n",
        "\n",
        "dataInfoPath = filePath+\"/dataInfo\"\n",
        "if not os.path.isdir(dataInfoPath):\n",
        "  os.mkdir(dataInfoPath)"
      ],
      "execution_count": null,
      "outputs": []
    },
    {
      "cell_type": "markdown",
      "metadata": {
        "id": "pJUSwcOuoFJS"
      },
      "source": [
        "LV0 데이터 정보만 LV0_data_explain.txt 에 저장"
      ]
    },
    {
      "cell_type": "code",
      "metadata": {
        "colab": {
          "base_uri": "https://localhost:8080/"
        },
        "id": "NI85sKVZRhnw",
        "outputId": "0c30c2ae-26f1-48c3-8113-648c0771d393"
      },
      "source": [
        "f = open(dataInfoPath+\"/LV0_data_explain.txt\", 'w')\n",
        "for i in LV0_data:\n",
        "  this_LV0_df = origin_data[origin_data['LV0'] == i]\n",
        "  print(\"LV0_data: \",i,\"\\t\",len(this_LV0_df), \"개\")\n",
        "  f.write(\"LV0_data: \"+i+\"\\t\"+str(len(this_LV0_df))+ \"개\\n\")\n",
        "\n",
        "f.close()"
      ],
      "execution_count": null,
      "outputs": [
        {
          "output_type": "stream",
          "text": [
            "LV0_data:  소파/거실가구 \t 3971 개\n",
            "LV0_data:  옷장/붙박이장 \t 4162 개\n",
            "LV0_data:  유아동가구/용품 \t 653 개\n",
            "LV0_data:  조명 \t 3435 개\n",
            "LV0_data:  식탁/주방가구 \t 5645 개\n",
            "LV0_data:  책장/책상/의자 \t 2597 개\n",
            "LV0_data:  인테리어소가구 \t 9661 개\n",
            "LV0_data:  침대/침실가구 \t 13048 개\n",
            "LV0_data:  침구/커튼/러그 \t 23875 개\n"
          ],
          "name": "stdout"
        }
      ]
    },
    {
      "cell_type": "markdown",
      "metadata": {
        "id": "T_k5XyifoKYw"
      },
      "source": [
        "LV0별 LV1 정보까지 LV0+LV1_data_explain.txt 에 저장\n",
        "\n"
      ]
    },
    {
      "cell_type": "code",
      "metadata": {
        "colab": {
          "base_uri": "https://localhost:8080/"
        },
        "id": "o2M_bWapig76",
        "outputId": "b8628b6b-f8c0-47a6-b48e-b80863724d06"
      },
      "source": [
        "f = open(dataInfoPath+\"/LV0+LV1_data_explain.txt\", 'w')\n",
        "\n",
        "for i in LV0_data:\n",
        "  this_LV0_df = origin_data[origin_data['LV0'] == i]\n",
        "  print(\"LV0_data: \",i,\"\\t\",len(this_LV0_df), \"개\")\n",
        "  f.write(\"LV0_data: \"+i+\"\\t\"+str(len(this_LV0_df))+ \"개\\n\")\n",
        "  for j in LV1_data:\n",
        "    this_LV1_df = this_LV0_df[this_LV0_df['LV1'] == j]\n",
        "    if len(this_LV1_df) !=0:\n",
        "      print(\"LV1_data: \",j,\"\\t\",len(this_LV1_df), \"개\")\n",
        "      f.write(\"LV1_data: \"+j+\"\\t\"+str(len(this_LV1_df))+ \"개\\n\")\n",
        "  print(\"===========\"*3,\"\\n\")\n",
        "  f.write(\"===========\"*3+\"\\n\")\n",
        "\n",
        "f.close()"
      ],
      "execution_count": null,
      "outputs": [
        {
          "output_type": "stream",
          "text": [
            "LV0_data:  소파/거실가구 \t 3971 개\n",
            "LV1_data:  거실장 \t 1578 개\n",
            "LV1_data:  소파 \t 1915 개\n",
            "LV1_data:  거실테이블 \t 478 개\n",
            "================================= \n",
            "\n",
            "LV0_data:  옷장/붙박이장 \t 4162 개\n",
            "LV1_data:  드레스룸 \t 583 개\n",
            "LV1_data:  수납장 \t 1636 개\n",
            "LV1_data:  옷장 \t 1707 개\n",
            "LV1_data:  붙박이장 \t 236 개\n",
            "================================= \n",
            "\n",
            "LV0_data:  유아동가구/용품 \t 653 개\n",
            "LV1_data:  유아매트 \t 53 개\n",
            "LV1_data:  수납장 \t 92 개\n",
            "LV1_data:  침대 \t 143 개\n",
            "LV1_data:  책장 \t 35 개\n",
            "LV1_data:  의자 \t 76 개\n",
            "LV1_data:  옷장 \t 150 개\n",
            "LV1_data:  책상 \t 104 개\n",
            "================================= \n",
            "\n",
            "LV0_data:  조명 \t 3435 개\n",
            "LV1_data:  스탠드조명 \t 193 개\n",
            "LV1_data:  방조명 \t 2030 개\n",
            "LV1_data:  포인트조명 \t 462 개\n",
            "LV1_data:  테이블조명 \t 750 개\n",
            "================================= \n",
            "\n",
            "LV0_data:  식탁/주방가구 \t 5645 개\n",
            "LV1_data:  주방수납 \t 1742 개\n",
            "LV1_data:  식탁의자 \t 801 개\n",
            "LV1_data:  식탁 \t 3102 개\n",
            "================================= \n",
            "\n",
            "LV0_data:  책장/책상/의자 \t 2597 개\n",
            "LV1_data:  수납장 \t 76 개\n",
            "LV1_data:  책장 \t 941 개\n",
            "LV1_data:  의자 \t 662 개\n",
            "LV1_data:  책상 \t 918 개\n",
            "================================= \n",
            "\n",
            "LV0_data:  인테리어소가구 \t 9661 개\n",
            "LV1_data:  소파 \t 823 개\n",
            "LV1_data:  의자 \t 1648 개\n",
            "LV1_data:  바체어 \t 543 개\n",
            "LV1_data:  수납 \t 4358 개\n",
            "LV1_data:  테이블 \t 1291 개\n",
            "LV1_data:  책상 \t 998 개\n",
            "================================= \n",
            "\n",
            "LV0_data:  침대/침실가구 \t 13048 개\n",
            "LV1_data:  매트리스 \t 1562 개\n",
            "LV1_data:  수납장 \t 2598 개\n",
            "LV1_data:  침대 \t 8888 개\n",
            "================================= \n",
            "\n",
            "LV0_data:  침구/커튼/러그 \t 23875 개\n",
            "LV1_data:  러그 \t 5756 개\n",
            "LV1_data:  침구 \t 14815 개\n",
            "LV1_data:  커튼 \t 3099 개\n",
            "LV1_data:  블라인드 \t 205 개\n",
            "================================= \n",
            "\n"
          ],
          "name": "stdout"
        }
      ]
    },
    {
      "cell_type": "markdown",
      "metadata": {
        "id": "P5nr1paghCNu"
      },
      "source": [
        "LV0별 LV1, LV2 정보까지 LV0+LV1+LV2_data_explain.txt 에 저장"
      ]
    },
    {
      "cell_type": "code",
      "metadata": {
        "colab": {
          "base_uri": "https://localhost:8080/"
        },
        "id": "X7VdgXvePGSK",
        "outputId": "2d9bf661-8fc1-4455-f24f-44b0c5f5612d"
      },
      "source": [
        "f = open(dataInfoPath+\"/LV0+LV1+LV2_data_explain.txt\", 'w')\n",
        "for i in LV0_data:\n",
        "  this_LV0_df = origin_data[origin_data['LV0'] == i]\n",
        "  print(\"LV0_data: \",i,\"\\t\",len(this_LV0_df), \"개\")\n",
        "  f.write(\"LV0_data: \"+i+\"\\t\"+str(len(this_LV0_df))+ \"개\\n\")\n",
        "  for j in LV1_data:\n",
        "    this_LV1_df = this_LV0_df[this_LV0_df['LV1'] == j]\n",
        "    if len(this_LV1_df) !=0:\n",
        "      print(\"LV1_data: \",j,\"\\t\",len(this_LV1_df), \"개\")\n",
        "      f.write(\"LV1_data: \"+j+\"\\t\"+str(len(this_LV1_df))+ \"개\\n\")\n",
        "      for k in LV2_data:\n",
        "        this_LV2_df = this_LV1_df[this_LV1_df['LV2'] == k]\n",
        "        if len(this_LV2_df) !=0:\n",
        "          print(\"LV2_data: \",k,\"\\t\",len(this_LV2_df), \"개\")\n",
        "          f.write(\"LV2_data: \"+k+\"\\t\"+str(len(this_LV2_df))+ \"개\\n\")\n",
        "      print(\"====\"*3)\n",
        "      f.write(\"====\"*3+\"\\n\")\n",
        "  print(\"===========\"*3,\"\\n\")\n",
        "  f.write(\"===========\"*3+\"\\n\\n\")\n",
        "\n",
        "f.close()"
      ],
      "execution_count": null,
      "outputs": [
        {
          "output_type": "stream",
          "text": [
            "LV0_data:  소파/거실가구 \t 3971 개\n",
            "LV1_data:  거실장 \t 1578 개\n",
            "LV2_data:  높은거실장/수납장 \t 229 개\n",
            "LV2_data:  시스템거실장 \t 19 개\n",
            "LV2_data:  일자형 \t 1284 개\n",
            "LV2_data:  확장형 \t 46 개\n",
            "============\n",
            "LV1_data:  소파 \t 1915 개\n",
            "LV2_data:  신소재소파 \t 201 개\n",
            "LV2_data:  천연가죽 \t 87 개\n",
            "LV2_data:  패브릭소파 \t 474 개\n",
            "LV2_data:  소파 패키지 초특가 \t 4 개\n",
            "LV2_data:  2-3인용 \t 36 개\n",
            "LV2_data:  1인용 \t 9 개\n",
            "LV2_data:  4인용 이상 \t 3 개\n",
            "LV2_data:  가죽소파 \t 2 개\n",
            "LV2_data:  4인용 \t 54 개\n",
            "LV2_data:  5인 이상 \t 4 개\n",
            "LV2_data:  스툴/소파ACC \t 77 개\n",
            "LV2_data:  합성가죽 \t 171 개\n",
            "LV2_data:  2~3인용 \t 6 개\n",
            "LV2_data:  천연가죽소파 \t 261 개\n",
            "LV2_data:  합성가죽소파 \t 500 개\n",
            "LV2_data:  소파 \t 17 개\n",
            "LV2_data:  헤드레스트/스툴/소파ACC \t 9 개\n",
            "============\n",
            "LV1_data:  거실테이블 \t 478 개\n",
            "LV2_data:  한샘 거실테이블 \t 1 개\n",
            "LV2_data:  리프트업 테이블 \t 10 개\n",
            "LV2_data:  사이드 테이블 \t 62 개\n",
            "LV2_data:  유리/대리석 테이블 \t 51 개\n",
            "LV2_data:  원목/무늬목 테이블 \t 354 개\n",
            "============\n",
            "================================= \n",
            "\n",
            "LV0_data:  옷장/붙박이장 \t 4162 개\n",
            "LV1_data:  드레스룸 \t 583 개\n",
            "LV2_data:  목대드레스룸(깊이40cm) \t 1 개\n",
            "LV2_data:  깊이 60cm \t 9 개\n",
            "LV2_data:  엑세서리옵션 \t 15 개\n",
            "LV2_data:  가로 40cm \t 24 개\n",
            "LV2_data:  목대형 드레스룸 \t 261 개\n",
            "LV2_data:  목대드레스룸(깊이60cm) \t 3 개\n",
            "LV2_data:  서랍/수납형 \t 32 개\n",
            "LV2_data:  가로 80cm \t 25 개\n",
            "LV2_data:  스틸드레스룸(깊이40cm) \t 2 개\n",
            "LV2_data:  철제형 드레스룸 \t 211 개\n",
            "============\n",
            "LV1_data:  수납장 \t 1636 개\n",
            "LV2_data:  주방 수납장 \t 45 개\n",
            "LV2_data:  선반장/장식장 \t 325 개\n",
            "LV2_data:  1~3단 서랍장/협탁 \t 186 개\n",
            "LV2_data:  철제 수납장 \t 46 개\n",
            "LV2_data:  2~3단 \t 4 개\n",
            "LV2_data:  액세서리 옵션 \t 23 개\n",
            "LV2_data:  4~6단 \t 4 개\n",
            "LV2_data:  4~6단 서랍장 \t 232 개\n",
            "LV2_data:  화장대/서랍장 \t 177 개\n",
            "LV2_data:  가로 40~60cm \t 7 개\n",
            "LV2_data:  가로 65~120cm \t 10 개\n",
            "LV2_data:  와이드 서랍장 \t 26 개\n",
            "LV2_data:  장식장 \t 19 개\n",
            "LV2_data:  원목 수납장 \t 203 개\n",
            "LV2_data:  틈새 수납장 \t 92 개\n",
            "LV2_data:  신발장 \t 19 개\n",
            "LV2_data:  책장/신발장 \t 218 개\n",
            "============\n",
            "LV1_data:  옷장 \t 1707 개\n",
            "LV2_data:  ├ 바이엘 슬라이딩 옷장 \t 6 개\n",
            "LV2_data:  └ 바이엘 키큰옷장 \t 15 개\n",
            "LV2_data:  여닫이 옷장 \t 1 개\n",
            "LV2_data:  ├ 아임빅 슬라이딩 옷장 \t 3 개\n",
            "LV2_data:  가로 40~50cm \t 138 개\n",
            "LV2_data:  가로 90cm \t 142 개\n",
            "LV2_data:  ┌ 글로우 슬라이딩 옷장 \t 12 개\n",
            "LV2_data:  └ 피카 슬라이딩 옷장 \t 6 개\n",
            "LV2_data:  행거/선반형 \t 49 개\n",
            "LV2_data:  엑세서리옵션 \t 10 개\n",
            "LV2_data:  ┌ 피카 키큰옷장 \t 45 개\n",
            "LV2_data:  서랍/수납형 \t 202 개\n",
            "LV2_data:  가로 80cm \t 353 개\n",
            "LV2_data:  가로 100cm 이상 \t 345 개\n",
            "LV2_data:  가로 80 ~ 100cm \t 1 개\n",
            "LV2_data:  옷장세트 \t 156 개\n",
            "LV2_data:  거울/커튼형 \t 12 개\n",
            "LV2_data:  슬라이딩 옷장 \t 176 개\n",
            "LV2_data:  틈새 옷장 \t 27 개\n",
            "LV2_data:  옷장 세트 \t 8 개\n",
            "============\n",
            "LV1_data:  붙박이장 \t 236 개\n",
            "LV2_data:  하이그로시 \t 1 개\n",
            "LV2_data:  엑세서리옵션 \t 3 개\n",
            "LV2_data:  우드/내추럴 \t 21 개\n",
            "LV2_data:  프레임/갤러리 \t 8 개\n",
            "LV2_data:  여닫이 붙박이장 \t 126 개\n",
            "LV2_data:  슬라이딩 붙박이장 \t 77 개\n",
            "============\n",
            "================================= \n",
            "\n",
            "LV0_data:  유아동가구/용품 \t 653 개\n",
            "LV1_data:  유아매트 \t 53 개\n",
            "LV2_data:  폴더매트 \t 31 개\n",
            "LV2_data:  패브릭매트 \t 7 개\n",
            "LV2_data:  텐트/놀이집 \t 2 개\n",
            "LV2_data:  한샘 유아매트/텐트 \t 12 개\n",
            "LV2_data:  매트 액세서리 \t 1 개\n",
            "============\n",
            "LV1_data:  수납장 \t 92 개\n",
            "LV2_data:  기저귀수납 \t 8 개\n",
            "LV2_data:  한샘수납장 \t 60 개\n",
            "LV2_data:  수납 액세서리 \t 5 개\n",
            "LV2_data:  장난감수납 \t 18 개\n",
            "LV2_data:  너비_90cm미만 \t 1 개\n",
            "============\n",
            "LV1_data:  침대 \t 143 개\n",
            "LV2_data:  침대 액세서리 \t 2 개\n",
            "LV2_data:  아기침대 \t 17 개\n",
            "LV2_data:  이층/벙커침대 \t 62 개\n",
            "LV2_data:  이불/베개/패드 \t 26 개\n",
            "LV2_data:  범퍼침대 \t 36 개\n",
            "============\n",
            "LV1_data:  책장 \t 35 개\n",
            "LV2_data:  일반책장 \t 7 개\n",
            "LV2_data:  높이_2/3단 \t 8 개\n",
            "LV2_data:  한샘책장 \t 2 개\n",
            "LV2_data:  전면책장 \t 8 개\n",
            "LV2_data:  높이_4/5단 \t 1 개\n",
            "LV2_data:  책꽂이 \t 8 개\n",
            "LV2_data:  너비_100cm이하 \t 1 개\n",
            "============\n",
            "LV1_data:  의자 \t 76 개\n",
            "LV2_data:  유아의자 \t 15 개\n",
            "LV2_data:  식탁의자 \t 43 개\n",
            "LV2_data:  책상의자 \t 4 개\n",
            "LV2_data:  유아소파 \t 1 개\n",
            "LV2_data:  의자 액세서리 \t 13 개\n",
            "============\n",
            "LV1_data:  옷장 \t 150 개\n",
            "LV2_data:  행거 \t 2 개\n",
            "LV2_data:  너비_1m이상 \t 1 개\n",
            "LV2_data:  베이비장(낮은옷장) \t 24 개\n",
            "LV2_data:  한샘 옷장 \t 104 개\n",
            "LV2_data:  옷장액세서리 \t 9 개\n",
            "LV2_data:  너비_60cm미만 \t 1 개\n",
            "LV2_data:  너비_60cm이상~1m미만 \t 2 개\n",
            "LV2_data:  주니어장(높은옷장) \t 5 개\n",
            "LV2_data:  서랍장 \t 2 개\n",
            "============\n",
            "LV1_data:  책상 \t 104 개\n",
            "LV2_data:  한샘책상 \t 7 개\n",
            "LV2_data:  각도조절책상 \t 12 개\n",
            "LV2_data:  책상 액세서리 \t 59 개\n",
            "LV2_data:  유아책상 \t 26 개\n",
            "============\n",
            "================================= \n",
            "\n",
            "LV0_data:  조명 \t 3435 개\n",
            "LV1_data:  스탠드조명 \t 193 개\n",
            "LV2_data:  LED스탠드  \t 73 개\n",
            "LV2_data:  스탠드 조명 \t 100 개\n",
            "LV2_data:  클램프/집게형 조명 \t 20 개\n",
            "============\n",
            "LV1_data:  방조명 \t 2030 개\n",
            "LV2_data:  기타/조명ACC \t 46 개\n",
            "LV2_data:  네추럴(우드) \t 65 개\n",
            "LV2_data:  센서등 \t 66 개\n",
            "LV2_data:  일반등 \t 85 개\n",
            "LV2_data:  레일조명 \t 41 개\n",
            "LV2_data:  모던 \t 266 개\n",
            "LV2_data:  거실조명 \t 222 개\n",
            "LV2_data:  빈티지(유리/스틸) \t 463 개\n",
            "LV2_data:  방조명 \t 317 개\n",
            "LV2_data:  램프등/샹들리에 \t 195 개\n",
            "LV2_data:  주방조명 \t 264 개\n",
            "============\n",
            "LV1_data:  포인트조명 \t 462 개\n",
            "LV2_data:  수유등/무드등 \t 30 개\n",
            "LV2_data:  스탠드 조명 \t 20 개\n",
            "LV2_data:  방등 \t 4 개\n",
            "LV2_data:  벽등/포인트등 \t 408 개\n",
            "============\n",
            "LV1_data:  테이블조명 \t 750 개\n",
            "LV2_data:  플로어조명 \t 261 개\n",
            "LV2_data:  테이블조명 \t 477 개\n",
            "LV2_data:  테이블/플로어 세트 PKG \t 12 개\n",
            "============\n",
            "================================= \n",
            "\n",
            "LV0_data:  식탁/주방가구 \t 5645 개\n",
            "LV1_data:  주방수납 \t 1742 개\n",
            "LV2_data:  주방수납장 \t 1044 개\n",
            "LV2_data:  렌지대 \t 698 개\n",
            "============\n",
            "LV1_data:  식탁의자 \t 801 개\n",
            "LV2_data:  벤치의자 \t 276 개\n",
            "LV2_data:  아일랜드 식탁의자 \t 111 개\n",
            "LV2_data:  식탁의자 \t 414 개\n",
            "============\n",
            "LV1_data:  식탁 \t 3102 개\n",
            "LV2_data:  6인이상 \t 848 개\n",
            "LV2_data:  확장형/기능성식탁 \t 36 개\n",
            "LV2_data:  2인 \t 356 개\n",
            "LV2_data:  식탁 \t 187 개\n",
            "LV2_data:  바테이블 \t 187 개\n",
            "LV2_data:  4인 \t 1488 개\n",
            "============\n",
            "================================= \n",
            "\n",
            "LV0_data:  책장/책상/의자 \t 2597 개\n",
            "LV1_data:  수납장 \t 76 개\n",
            "LV2_data:  수납장/캐비넷 \t 9 개\n",
            "LV2_data:  선반/장 \t 59 개\n",
            "LV2_data:  이동/서랍장 \t 8 개\n",
            "============\n",
            "LV1_data:  책장 \t 941 개\n",
            "LV2_data:  높이_ 6단 이상 \t 43 개\n",
            "LV2_data:  높이_ 1~3단 \t 295 개\n",
            "LV2_data:  책장 도어액세서리 \t 11 개\n",
            "LV2_data:  너비 60cm 이하 \t 40 개\n",
            "LV2_data:  책장 수납액세서리 \t 18 개\n",
            "LV2_data:  너비_ 130cm 이상 \t 20 개\n",
            "LV2_data:  높이_ 4~5단 \t 367 개\n",
            "LV2_data:  너비_ 90~120cm  \t 111 개\n",
            "LV2_data:  너비_ 70~80cm  \t 36 개\n",
            "============\n",
            "LV1_data:  의자 \t 662 개\n",
            "LV2_data:  디자인 의자 \t 105 개\n",
            "LV2_data:  스툴/좌식의자 \t 25 개\n",
            "LV2_data:  서재/사무용 의자 \t 119 개\n",
            "LV2_data:  아동 의자 \t 36 개\n",
            "LV2_data:  학습 의자 \t 339 개\n",
            "LV2_data:  안락/중역용 의자 \t 15 개\n",
            "LV2_data:  기능성 의자 \t 16 개\n",
            "LV2_data:  의자 액세서리 \t 7 개\n",
            "============\n",
            "LV1_data:  책상 \t 918 개\n",
            "LV2_data:  기능성 책상 \t 33 개\n",
            "LV2_data:  수납_ 전면 책상 \t 44 개\n",
            "LV2_data:  수납_ 책상+책장 \t 17 개\n",
            "LV2_data:  서랍형 책상 \t 140 개\n",
            "LV2_data:  이동서랍장 \t 9 개\n",
            "LV2_data:  수납_ h형(책장형) 책상 \t 68 개\n",
            "LV2_data:  2인용 책상 \t 24 개\n",
            "LV2_data:  독서실 책상 \t 52 개\n",
            "LV2_data:  좌식 책상 \t 17 개\n",
            "LV2_data:  책상 액세서리 \t 56 개\n",
            "LV2_data:  일자형 책상 \t 387 개\n",
            "LV2_data:  컴퓨터 책상 \t 71 개\n",
            "============\n",
            "================================= \n",
            "\n",
            "LV0_data:  인테리어소가구 \t 9661 개\n",
            "LV1_data:  소파 \t 823 개\n",
            "LV2_data:  패브릭 \t 448 개\n",
            "LV2_data:  가죽 \t 257 개\n",
            "LV2_data:  빈백 \t 118 개\n",
            "============\n",
            "LV1_data:  의자 \t 1648 개\n",
            "LV2_data:  우드 \t 526 개\n",
            "LV2_data:  플라스틱 \t 260 개\n",
            "LV2_data:  기타 \t 164 개\n",
            "LV2_data:  패브릭 \t 130 개\n",
            "LV2_data:  가죽 \t 242 개\n",
            "LV2_data:  철제 \t 326 개\n",
            "============\n",
            "LV1_data:  바체어 \t 543 개\n",
            "LV2_data:  스툴 \t 241 개\n",
            "LV2_data:  바체어 \t 302 개\n",
            "============\n",
            "LV1_data:  수납 \t 4358 개\n",
            "LV2_data:  철제수납장 \t 64 개\n",
            "LV2_data:  벽선반 \t 203 개\n",
            "LV2_data:  철제선반장 \t 252 개\n",
            "LV2_data:  원목선반장 \t 192 개\n",
            "LV2_data:  책장 \t 672 개\n",
            "LV2_data:  원목수납장 \t 884 개\n",
            "LV2_data:  주방수납장 \t 373 개\n",
            "LV2_data:  신발장 \t 232 개\n",
            "LV2_data:  서랍장 \t 1206 개\n",
            "LV2_data:  틈새수납장 \t 280 개\n",
            "============\n",
            "LV1_data:  테이블 \t 1291 개\n",
            "LV2_data:  우드 \t 835 개\n",
            "LV2_data:  기타 \t 156 개\n",
            "LV2_data:  대리석 \t 85 개\n",
            "LV2_data:  철제 \t 215 개\n",
            "============\n",
            "LV1_data:  책상 \t 998 개\n",
            "LV2_data:  우드 \t 598 개\n",
            "LV2_data:  철제 \t 400 개\n",
            "============\n",
            "================================= \n",
            "\n",
            "LV0_data:  침대/침실가구 \t 13048 개\n",
            "LV1_data:  매트리스 \t 1562 개\n",
            "LV2_data:  더블 (가로135~140) \t 51 개\n",
            "LV2_data:  베개/매트커버 \t 20 개\n",
            "LV2_data:  토퍼 \t 152 개\n",
            "LV2_data:  킹 (가로160 이상) \t 177 개\n",
            "LV2_data:  퀸 (가로150) \t 416 개\n",
            "LV2_data:  돌/흙침대보료 \t 25 개\n",
            "LV2_data:  슈퍼싱글 (가로110) \t 571 개\n",
            "LV2_data:  싱글 (가로110 미만) \t 150 개\n",
            "============\n",
            "LV1_data:  수납장 \t 2598 개\n",
            "LV2_data:  옷장 \t 265 개\n",
            "LV2_data:  협탁 \t 286 개\n",
            "LV2_data:  화장대 \t 1035 개\n",
            "LV2_data:  서랍장 \t 1012 개\n",
            "============\n",
            "LV1_data:  침대 \t 8888 개\n",
            "LV2_data:  SS+SS 침대 \t 38 개\n",
            "LV2_data:  이층/벙커 침대 \t 119 개\n",
            "LV2_data:  Q/SS 단독형침대 \t 24 개\n",
            "LV2_data:  Q+Q 침대 \t 42 개\n",
            "LV2_data:  싱글침대 모아보기 \t 120 개\n",
            "LV2_data:  침대 \t 601 개\n",
            "LV2_data:  무헤드/기본 침대 \t 1231 개\n",
            "LV2_data:  원목 침대 \t 2120 개\n",
            "LV2_data:  패브릭 침대 \t 579 개\n",
            "LV2_data:  킹침대 모아보기 \t 51 개\n",
            "LV2_data:  기능성 침대 \t 327 개\n",
            "LV2_data:  침대가드/ACC \t 1 개\n",
            "LV2_data:  LED 침대 \t 1029 개\n",
            "LV2_data:  가죽 침대 \t 973 개\n",
            "LV2_data:  Q+SS 침대 \t 58 개\n",
            "LV2_data:  더블침대 모아보기 \t 42 개\n",
            "LV2_data:  스틸 침대 \t 17 개\n",
            "LV2_data:  수납 침대 \t 1516 개\n",
            "============\n",
            "================================= \n",
            "\n",
            "LV0_data:  침구/커튼/러그 \t 23875 개\n",
            "LV1_data:  러그 \t 5756 개\n",
            "LV2_data:  원형러그 \t 166 개\n",
            "LV2_data:  발매트 \t 1704 개\n",
            "LV2_data:  소파패드 \t 581 개\n",
            "LV2_data:  면러그/워싱카페트 \t 549 개\n",
            "LV2_data:  PVC매트/요가매트/여름자리 \t 197 개\n",
            "LV2_data:  사이잘카페트 \t 95 개\n",
            "LV2_data:  송치카페트 \t 11 개\n",
            "LV2_data:  알러지 기능성 카페트 \t 19 개\n",
            "LV2_data:  디자인러그 \t 1204 개\n",
            "LV2_data:  베이직러그(솔리드) \t 471 개\n",
            "LV2_data:  샤기카페트 \t 615 개\n",
            "LV2_data:  키즈/캐릭터 매트 \t 24 개\n",
            "LV2_data:  프린팅 러그(DTP) \t 120 개\n",
            "============\n",
            "LV1_data:  침구 \t 14815 개\n",
            "LV2_data:  Q/D/K(도트/패턴) \t 260 개\n",
            "LV2_data:  방수커버/매트리스커버 \t 162 개\n",
            "LV2_data:  S/SS(차렵) \t 1076 개\n",
            "LV2_data:  S/SS(러블리/플라워) \t 61 개\n",
            "LV2_data:  베개/베캐커버 \t 1050 개\n",
            "LV2_data:  베개 \t 192 개\n",
            "LV2_data:  Q/D/K(무지/솔리드) \t 479 개\n",
            "LV2_data:  요이불세트 \t 113 개\n",
            "LV2_data:  이불커버 \t 652 개\n",
            "LV2_data:  베개커버(무지/솔리드) \t 269 개\n",
            "LV2_data:  극세사이불 \t 132 개\n",
            "LV2_data:  S/SS(체크/스트라이프) \t 128 개\n",
            "LV2_data:  Q/D/K(체크/스트라이프) \t 254 개\n",
            "LV2_data:  Q/D/K(차렵) \t 870 개\n",
            "LV2_data:  패드/스프레드 \t 1736 개\n",
            "LV2_data:  매트리스커버 \t 768 개\n",
            "LV2_data:  Q/D/K(캐릭터/일러스트) \t 1074 개\n",
            "LV2_data:  침구세트 \t 173 개\n",
            "LV2_data:  Q/D/K(광목/린넨 내츄럴) \t 279 개\n",
            "LV2_data:  S/SS(극세사) \t 140 개\n",
            "LV2_data:  S/SS(홑이불) \t 556 개\n",
            "LV2_data:  Q/D/K(러블리/플라워) \t 98 개\n",
            "LV2_data:  Q/D/K(홑이불) \t 241 개\n",
            "LV2_data:  요/요커버 \t 201 개\n",
            "LV2_data:  S/SS(광목/린넨 내츄럴) \t 18 개\n",
            "LV2_data:  S/SS(일러스트/캐릭터) \t 12 개\n",
            "LV2_data:  베개커버(프린팅/일러스트) \t 175 개\n",
            "LV2_data:  S/SS(무지/솔리드) \t 343 개\n",
            "LV2_data:  Q/D/K 극세사 \t 179 개\n",
            "LV2_data:  라텍스/메모리폼 매트 \t 147 개\n",
            "LV2_data:  혼수/예단침구 \t 162 개\n",
            "LV2_data:  기능성 침구 기타 \t 77 개\n",
            "LV2_data:  침구단품 \t 27 개\n",
            "LV2_data:  베개커버(솜포함) \t 33 개\n",
            "LV2_data:  Q/D/K(호텔/럭셔리) \t 1158 개\n",
            "LV2_data:  S/SS(도트/패턴) \t 403 개\n",
            "LV2_data:  차렵이불 \t 1117 개\n",
            "============\n",
            "LV1_data:  커튼 \t 3099 개\n",
            "LV2_data:  커튼(극세사/방한커튼) \t 8 개\n",
            "LV2_data:  바란스/캐노피/가리개 \t 271 개\n",
            "LV2_data:  커튼(투톤/기타) \t 25 개\n",
            "LV2_data:  커튼(무지/솔리드) \t 351 개\n",
            "LV2_data:  암막커튼(무지/솔리드) \t 1048 개\n",
            "LV2_data:  암막커튼(북유럽/프린팅) \t 287 개\n",
            "LV2_data:  롤업커튼 \t 5 개\n",
            "LV2_data:  커튼(키즈/캐릭터) \t 4 개\n",
            "LV2_data:  커튼(자수) \t 77 개\n",
            "LV2_data:  커튼(레이스/쉬폰/속커튼) \t 311 개\n",
            "LV2_data:  커튼(린넨) \t 210 개\n",
            "LV2_data:  커튼(러블리/플라워) \t 99 개\n",
            "LV2_data:  암막커튼(투톤/기타) \t 33 개\n",
            "LV2_data:  커튼(북유럽/프린팅) \t 172 개\n",
            "LV2_data:  암막커튼(러블리/플라워) \t 7 개\n",
            "LV2_data:  커튼봉/액세서리 \t 191 개\n",
            "============\n",
            "LV1_data:  블라인드 \t 205 개\n",
            "LV2_data:  로만쉐이드 \t 2 개\n",
            "LV2_data:  허니콤 블라인드 \t 16 개\n",
            "LV2_data:  우드 블라인드 \t 8 개\n",
            "LV2_data:  콤비 블라인드 \t 119 개\n",
            "LV2_data:  롤스크린 \t 36 개\n",
            "LV2_data:  트리플 블라인드 \t 7 개\n",
            "LV2_data:  알루미늄 블라인드 \t 17 개\n",
            "============\n",
            "================================= \n",
            "\n"
          ],
          "name": "stdout"
        }
      ]
    },
    {
      "cell_type": "code",
      "metadata": {
        "id": "cw5zMSuPoqOX"
      },
      "source": [
        ""
      ],
      "execution_count": null,
      "outputs": []
    }
  ]
}