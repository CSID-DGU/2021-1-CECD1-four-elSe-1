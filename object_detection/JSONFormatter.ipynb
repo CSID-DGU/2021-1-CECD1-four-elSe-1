{
 "cells": [
  {
   "cell_type": "code",
   "execution_count": 2,
   "metadata": {},
   "outputs": [],
   "source": [
    "import json\n",
    "import uuid"
   ]
  },
  {
   "cell_type": "code",
   "execution_count": 5,
   "metadata": {},
   "outputs": [],
   "source": [
    "def jsonFormatter(box,label,img_name):\n",
    "    b = box.astype(int)\n",
    "    detected = {\n",
    "        \"objectID\": uuid.uuid4(),\n",
    "        \"location\":{\n",
    "            \"xmin\":b[1],\n",
    "            \"ymin\":b[3],\n",
    "            \"xmax\":b[0],\n",
    "            \"ymax\":b[2]\n",
    "        },\n",
    "        \"tag\": label,\n",
    "        \"IMG_URL\" : img_name\n",
    "    }\n",
    "\n",
    "    filename = output_path + \"{}_path: ({}).jpg\".format(labels_to_names_seq[label]+str(labels_to_num[label]),imagePath_str)\n",
    "    with open(filename,\"w\") as outFile:\n",
    "        json.dump(detected, outFile, indent=4)\n",
    "    \n",
    "    \n"
   ]
  },
  {
   "cell_type": "code",
   "execution_count": null,
   "metadata": {},
   "outputs": [],
   "source": []
  }
 ],
 "metadata": {
  "kernelspec": {
   "name": "python3",
   "display_name": "Python 3.7.5 64-bit ('tf1.15': conda)"
  },
  "interpreter": {
   "hash": "cdcf915e369eadfabb4a6b183894f6c3253f341bfc3ae0c0562eedcaf36624a9"
  }
 },
 "nbformat": 4,
 "nbformat_minor": 5
}