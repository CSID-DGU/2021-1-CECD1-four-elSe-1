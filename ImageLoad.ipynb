{
 "metadata": {
  "language_info": {
   "codemirror_mode": {
    "name": "ipython",
    "version": 3
   },
   "file_extension": ".py",
   "mimetype": "text/x-python",
   "name": "python",
   "nbconvert_exporter": "python",
   "pygments_lexer": "ipython3",
   "version": "3.7.3-final"
  },
  "orig_nbformat": 2,
  "kernelspec": {
   "name": "python373jvsc74a57bd0b3ba2566441a7c06988d0923437866b63cedc61552a5af99d1f4fb67d367b25f",
   "display_name": "Python 3.7.3 64-bit ('ProgramData': virtualenv)"
  }
 },
 "nbformat": 4,
 "nbformat_minor": 2,
 "cells": [
  {
   "cell_type": "code",
   "execution_count": 14,
   "metadata": {},
   "outputs": [],
   "source": [
    "import pandas as pd\n",
    "import os\n",
    "from glob import glob\n",
    "from PIL import Image\n",
    "import matplotlib.pyplot as plt\n",
    "import cv2\n",
    "\n",
    "from urllib import request\n",
    "import urllib\n",
    "from io import BytesIO\n",
    "import numpy as np\n",
    "from skimage import io\n",
    "from tqdm import tqdm\n",
    "import pickle"
   ]
  },
  {
   "cell_type": "code",
   "execution_count": 2,
   "metadata": {},
   "outputs": [
    {
     "output_type": "execute_result",
     "data": {
      "text/plain": [
       "   PROD_ID                     PROD_NM       LV0 LV1         LV2  \\\n",
       "0    17619  독일 클라이네볼케 정품 카로 매트 (55*65)  침구/커튼/러그  러그         발매트   \n",
       "1    24806     [바이빔]심플 러그-사각소형(3color)  침구/커튼/러그  러그  베이직러그(솔리드)   \n",
       "2    24812       [바이빔]심플 러그-원형(3color)  침구/커튼/러그  러그        원형러그   \n",
       "3    27161     [바이빔]스타 러그-사각소형(4color)  침구/커튼/러그  러그  베이직러그(솔리드)   \n",
       "4    27162     [바이빔]스타 러그-사각중형(4color)  침구/커튼/러그  러그  베이직러그(솔리드)   \n",
       "\n",
       "                                             IMG_URL           LV0_onehot  \\\n",
       "0  https://image.hanssem.com/hsimg//gds/550/17/17...  [0 0 0 0 0 0 0 1 0]   \n",
       "1  https://image.hanssem.com/hsimg//gds/550/24/24...  [0 0 0 0 0 0 0 1 0]   \n",
       "2  https://image.hanssem.com/hsimg//gds/550/24/24...  [0 0 0 0 0 0 0 1 0]   \n",
       "3  https://image.hanssem.com/hsimg//gds/550/27/27...  [0 0 0 0 0 0 0 1 0]   \n",
       "4  https://image.hanssem.com/hsimg//gds/550/27/27...  [0 0 0 0 0 0 0 1 0]   \n",
       "\n",
       "                                          LV1_onehot  \\\n",
       "0  [0 0 0 1 0 0 0 0 0 0 0 0 0 0 0 0 0 0 0 0 0 0 0...   \n",
       "1  [0 0 0 1 0 0 0 0 0 0 0 0 0 0 0 0 0 0 0 0 0 0 0...   \n",
       "2  [0 0 0 1 0 0 0 0 0 0 0 0 0 0 0 0 0 0 0 0 0 0 0...   \n",
       "3  [0 0 0 1 0 0 0 0 0 0 0 0 0 0 0 0 0 0 0 0 0 0 0...   \n",
       "4  [0 0 0 1 0 0 0 0 0 0 0 0 0 0 0 0 0 0 0 0 0 0 0...   \n",
       "\n",
       "                                          LV2_onehot  \n",
       "0  [0 0 0 0 0 0 0 0 0 0 0 0 0 0 0 0 0 0 0 0 0 0 0...  \n",
       "1  [0 0 0 0 0 0 0 0 0 0 0 0 0 0 0 0 0 0 0 0 0 0 0...  \n",
       "2  [0 0 0 0 0 0 0 0 0 0 0 0 0 0 0 0 0 0 0 0 0 0 0...  \n",
       "3  [0 0 0 0 0 0 0 0 0 0 0 0 0 0 0 0 0 0 0 0 0 0 0...  \n",
       "4  [0 0 0 0 0 0 0 0 0 0 0 0 0 0 0 0 0 0 0 0 0 0 0...  "
      ],
      "text/html": "<div>\n<style scoped>\n    .dataframe tbody tr th:only-of-type {\n        vertical-align: middle;\n    }\n\n    .dataframe tbody tr th {\n        vertical-align: top;\n    }\n\n    .dataframe thead th {\n        text-align: right;\n    }\n</style>\n<table border=\"1\" class=\"dataframe\">\n  <thead>\n    <tr style=\"text-align: right;\">\n      <th></th>\n      <th>PROD_ID</th>\n      <th>PROD_NM</th>\n      <th>LV0</th>\n      <th>LV1</th>\n      <th>LV2</th>\n      <th>IMG_URL</th>\n      <th>LV0_onehot</th>\n      <th>LV1_onehot</th>\n      <th>LV2_onehot</th>\n    </tr>\n  </thead>\n  <tbody>\n    <tr>\n      <th>0</th>\n      <td>17619</td>\n      <td>독일 클라이네볼케 정품 카로 매트 (55*65)</td>\n      <td>침구/커튼/러그</td>\n      <td>러그</td>\n      <td>발매트</td>\n      <td>https://image.hanssem.com/hsimg//gds/550/17/17...</td>\n      <td>[0 0 0 0 0 0 0 1 0]</td>\n      <td>[0 0 0 1 0 0 0 0 0 0 0 0 0 0 0 0 0 0 0 0 0 0 0...</td>\n      <td>[0 0 0 0 0 0 0 0 0 0 0 0 0 0 0 0 0 0 0 0 0 0 0...</td>\n    </tr>\n    <tr>\n      <th>1</th>\n      <td>24806</td>\n      <td>[바이빔]심플 러그-사각소형(3color)</td>\n      <td>침구/커튼/러그</td>\n      <td>러그</td>\n      <td>베이직러그(솔리드)</td>\n      <td>https://image.hanssem.com/hsimg//gds/550/24/24...</td>\n      <td>[0 0 0 0 0 0 0 1 0]</td>\n      <td>[0 0 0 1 0 0 0 0 0 0 0 0 0 0 0 0 0 0 0 0 0 0 0...</td>\n      <td>[0 0 0 0 0 0 0 0 0 0 0 0 0 0 0 0 0 0 0 0 0 0 0...</td>\n    </tr>\n    <tr>\n      <th>2</th>\n      <td>24812</td>\n      <td>[바이빔]심플 러그-원형(3color)</td>\n      <td>침구/커튼/러그</td>\n      <td>러그</td>\n      <td>원형러그</td>\n      <td>https://image.hanssem.com/hsimg//gds/550/24/24...</td>\n      <td>[0 0 0 0 0 0 0 1 0]</td>\n      <td>[0 0 0 1 0 0 0 0 0 0 0 0 0 0 0 0 0 0 0 0 0 0 0...</td>\n      <td>[0 0 0 0 0 0 0 0 0 0 0 0 0 0 0 0 0 0 0 0 0 0 0...</td>\n    </tr>\n    <tr>\n      <th>3</th>\n      <td>27161</td>\n      <td>[바이빔]스타 러그-사각소형(4color)</td>\n      <td>침구/커튼/러그</td>\n      <td>러그</td>\n      <td>베이직러그(솔리드)</td>\n      <td>https://image.hanssem.com/hsimg//gds/550/27/27...</td>\n      <td>[0 0 0 0 0 0 0 1 0]</td>\n      <td>[0 0 0 1 0 0 0 0 0 0 0 0 0 0 0 0 0 0 0 0 0 0 0...</td>\n      <td>[0 0 0 0 0 0 0 0 0 0 0 0 0 0 0 0 0 0 0 0 0 0 0...</td>\n    </tr>\n    <tr>\n      <th>4</th>\n      <td>27162</td>\n      <td>[바이빔]스타 러그-사각중형(4color)</td>\n      <td>침구/커튼/러그</td>\n      <td>러그</td>\n      <td>베이직러그(솔리드)</td>\n      <td>https://image.hanssem.com/hsimg//gds/550/27/27...</td>\n      <td>[0 0 0 0 0 0 0 1 0]</td>\n      <td>[0 0 0 1 0 0 0 0 0 0 0 0 0 0 0 0 0 0 0 0 0 0 0...</td>\n      <td>[0 0 0 0 0 0 0 0 0 0 0 0 0 0 0 0 0 0 0 0 0 0 0...</td>\n    </tr>\n  </tbody>\n</table>\n</div>"
     },
     "metadata": {},
     "execution_count": 2
    }
   ],
   "source": [
    "df = pd.read_csv(\"./csv/침구-커튼-러그/러그.csv\")\n",
    "df.head()"
   ]
  },
  {
   "cell_type": "code",
   "execution_count": 3,
   "metadata": {},
   "outputs": [],
   "source": [
    "path = \"./csv/침구-커튼-러그/러그\"\n"
   ]
  },
  {
   "cell_type": "code",
   "execution_count": 4,
   "metadata": {},
   "outputs": [
    {
     "output_type": "stream",
     "name": "stderr",
     "text": [
      "ipykernel_launcher:2: SettingWithCopyWarning: \nA value is trying to be set on a copy of a slice from a DataFrame\n\nSee the caveats in the documentation: https://pandas.pydata.org/pandas-docs/stable/user_guide/indexing.html#returning-a-view-versus-a-copy\nipykernel_launcher:3: SettingWithCopyWarning: \nA value is trying to be set on a copy of a slice from a DataFrame\n\nSee the caveats in the documentation: https://pandas.pydata.org/pandas-docs/stable/user_guide/indexing.html#returning-a-view-versus-a-copy\nipykernel_launcher:4: SettingWithCopyWarning: \nA value is trying to be set on a copy of a slice from a DataFrame\n\nSee the caveats in the documentation: https://pandas.pydata.org/pandas-docs/stable/user_guide/indexing.html#returning-a-view-versus-a-copy\n"
     ]
    }
   ],
   "source": [
    "for idx in df.index:\n",
    "    df[\"LV0\"][idx] = df[\"LV0\"][idx].replace(\"/\",\"-\")\n",
    "    df[\"LV1\"][idx] = df[\"LV1\"][idx].replace(\"/\",\"-\")\n",
    "    df[\"LV2\"][idx] = df[\"LV2\"][idx].replace(\"/\",\"-\")\n"
   ]
  },
  {
   "cell_type": "code",
   "execution_count": 5,
   "metadata": {},
   "outputs": [
    {
     "output_type": "execute_result",
     "data": {
      "text/plain": [
       "   PROD_ID                     PROD_NM       LV0 LV1         LV2  \\\n",
       "0    17619  독일 클라이네볼케 정품 카로 매트 (55*65)  침구-커튼-러그  러그         발매트   \n",
       "1    24806     [바이빔]심플 러그-사각소형(3color)  침구-커튼-러그  러그  베이직러그(솔리드)   \n",
       "2    24812       [바이빔]심플 러그-원형(3color)  침구-커튼-러그  러그        원형러그   \n",
       "3    27161     [바이빔]스타 러그-사각소형(4color)  침구-커튼-러그  러그  베이직러그(솔리드)   \n",
       "4    27162     [바이빔]스타 러그-사각중형(4color)  침구-커튼-러그  러그  베이직러그(솔리드)   \n",
       "\n",
       "                                             IMG_URL           LV0_onehot  \\\n",
       "0  https://image.hanssem.com/hsimg//gds/550/17/17...  [0 0 0 0 0 0 0 1 0]   \n",
       "1  https://image.hanssem.com/hsimg//gds/550/24/24...  [0 0 0 0 0 0 0 1 0]   \n",
       "2  https://image.hanssem.com/hsimg//gds/550/24/24...  [0 0 0 0 0 0 0 1 0]   \n",
       "3  https://image.hanssem.com/hsimg//gds/550/27/27...  [0 0 0 0 0 0 0 1 0]   \n",
       "4  https://image.hanssem.com/hsimg//gds/550/27/27...  [0 0 0 0 0 0 0 1 0]   \n",
       "\n",
       "                                          LV1_onehot  \\\n",
       "0  [0 0 0 1 0 0 0 0 0 0 0 0 0 0 0 0 0 0 0 0 0 0 0...   \n",
       "1  [0 0 0 1 0 0 0 0 0 0 0 0 0 0 0 0 0 0 0 0 0 0 0...   \n",
       "2  [0 0 0 1 0 0 0 0 0 0 0 0 0 0 0 0 0 0 0 0 0 0 0...   \n",
       "3  [0 0 0 1 0 0 0 0 0 0 0 0 0 0 0 0 0 0 0 0 0 0 0...   \n",
       "4  [0 0 0 1 0 0 0 0 0 0 0 0 0 0 0 0 0 0 0 0 0 0 0...   \n",
       "\n",
       "                                          LV2_onehot  \n",
       "0  [0 0 0 0 0 0 0 0 0 0 0 0 0 0 0 0 0 0 0 0 0 0 0...  \n",
       "1  [0 0 0 0 0 0 0 0 0 0 0 0 0 0 0 0 0 0 0 0 0 0 0...  \n",
       "2  [0 0 0 0 0 0 0 0 0 0 0 0 0 0 0 0 0 0 0 0 0 0 0...  \n",
       "3  [0 0 0 0 0 0 0 0 0 0 0 0 0 0 0 0 0 0 0 0 0 0 0...  \n",
       "4  [0 0 0 0 0 0 0 0 0 0 0 0 0 0 0 0 0 0 0 0 0 0 0...  "
      ],
      "text/html": "<div>\n<style scoped>\n    .dataframe tbody tr th:only-of-type {\n        vertical-align: middle;\n    }\n\n    .dataframe tbody tr th {\n        vertical-align: top;\n    }\n\n    .dataframe thead th {\n        text-align: right;\n    }\n</style>\n<table border=\"1\" class=\"dataframe\">\n  <thead>\n    <tr style=\"text-align: right;\">\n      <th></th>\n      <th>PROD_ID</th>\n      <th>PROD_NM</th>\n      <th>LV0</th>\n      <th>LV1</th>\n      <th>LV2</th>\n      <th>IMG_URL</th>\n      <th>LV0_onehot</th>\n      <th>LV1_onehot</th>\n      <th>LV2_onehot</th>\n    </tr>\n  </thead>\n  <tbody>\n    <tr>\n      <th>0</th>\n      <td>17619</td>\n      <td>독일 클라이네볼케 정품 카로 매트 (55*65)</td>\n      <td>침구-커튼-러그</td>\n      <td>러그</td>\n      <td>발매트</td>\n      <td>https://image.hanssem.com/hsimg//gds/550/17/17...</td>\n      <td>[0 0 0 0 0 0 0 1 0]</td>\n      <td>[0 0 0 1 0 0 0 0 0 0 0 0 0 0 0 0 0 0 0 0 0 0 0...</td>\n      <td>[0 0 0 0 0 0 0 0 0 0 0 0 0 0 0 0 0 0 0 0 0 0 0...</td>\n    </tr>\n    <tr>\n      <th>1</th>\n      <td>24806</td>\n      <td>[바이빔]심플 러그-사각소형(3color)</td>\n      <td>침구-커튼-러그</td>\n      <td>러그</td>\n      <td>베이직러그(솔리드)</td>\n      <td>https://image.hanssem.com/hsimg//gds/550/24/24...</td>\n      <td>[0 0 0 0 0 0 0 1 0]</td>\n      <td>[0 0 0 1 0 0 0 0 0 0 0 0 0 0 0 0 0 0 0 0 0 0 0...</td>\n      <td>[0 0 0 0 0 0 0 0 0 0 0 0 0 0 0 0 0 0 0 0 0 0 0...</td>\n    </tr>\n    <tr>\n      <th>2</th>\n      <td>24812</td>\n      <td>[바이빔]심플 러그-원형(3color)</td>\n      <td>침구-커튼-러그</td>\n      <td>러그</td>\n      <td>원형러그</td>\n      <td>https://image.hanssem.com/hsimg//gds/550/24/24...</td>\n      <td>[0 0 0 0 0 0 0 1 0]</td>\n      <td>[0 0 0 1 0 0 0 0 0 0 0 0 0 0 0 0 0 0 0 0 0 0 0...</td>\n      <td>[0 0 0 0 0 0 0 0 0 0 0 0 0 0 0 0 0 0 0 0 0 0 0...</td>\n    </tr>\n    <tr>\n      <th>3</th>\n      <td>27161</td>\n      <td>[바이빔]스타 러그-사각소형(4color)</td>\n      <td>침구-커튼-러그</td>\n      <td>러그</td>\n      <td>베이직러그(솔리드)</td>\n      <td>https://image.hanssem.com/hsimg//gds/550/27/27...</td>\n      <td>[0 0 0 0 0 0 0 1 0]</td>\n      <td>[0 0 0 1 0 0 0 0 0 0 0 0 0 0 0 0 0 0 0 0 0 0 0...</td>\n      <td>[0 0 0 0 0 0 0 0 0 0 0 0 0 0 0 0 0 0 0 0 0 0 0...</td>\n    </tr>\n    <tr>\n      <th>4</th>\n      <td>27162</td>\n      <td>[바이빔]스타 러그-사각중형(4color)</td>\n      <td>침구-커튼-러그</td>\n      <td>러그</td>\n      <td>베이직러그(솔리드)</td>\n      <td>https://image.hanssem.com/hsimg//gds/550/27/27...</td>\n      <td>[0 0 0 0 0 0 0 1 0]</td>\n      <td>[0 0 0 1 0 0 0 0 0 0 0 0 0 0 0 0 0 0 0 0 0 0 0...</td>\n      <td>[0 0 0 0 0 0 0 0 0 0 0 0 0 0 0 0 0 0 0 0 0 0 0...</td>\n    </tr>\n  </tbody>\n</table>\n</div>"
     },
     "metadata": {},
     "execution_count": 5
    }
   ],
   "source": [
    "df.head()"
   ]
  },
  {
   "cell_type": "code",
   "execution_count": null,
   "metadata": {},
   "outputs": [],
   "source": []
  },
  {
   "cell_type": "code",
   "execution_count": 13,
   "metadata": {},
   "outputs": [],
   "source": [
    "res = request.urlopen(df[\"IMG_URL\"][0])\n",
    "img = Image.open(BytesIO(res.read()))"
   ]
  },
  {
   "cell_type": "code",
   "execution_count": 6,
   "metadata": {},
   "outputs": [
    {
     "output_type": "stream",
     "name": "stderr",
     "text": [
      "100%|██████████| 5756/5756 [09:23<00:00, 10.21it/s]\n"
     ]
    }
   ],
   "source": [
    "# indices = []\n",
    "# imgs = []\n",
    "# lv2_names = []\n",
    "# for idx in tqdm(df.index):\n",
    "#     try:\n",
    "#         res = request.urlopen(df[\"IMG_URL\"][idx])\n",
    "#         img = Image.open(BytesIO(res.read())) \n",
    "#         if np.array(img).shape == (550,550,3) :\n",
    "#             imgs.append(img)\n",
    "#             lv2_names.append(df[\"LV2\"][idx])\n",
    "#         else:\n",
    "#             indices.append(idx)\n",
    "        \n",
    "#     except:\n",
    "#         indices.append(idx)\n",
    "\n"
   ]
  },
  {
   "cell_type": "code",
   "execution_count": 7,
   "metadata": {},
   "outputs": [
    {
     "output_type": "execute_result",
     "data": {
      "text/plain": [
       "[1900, 2020, 2215, 2734, 3225, 4932, 5617]"
      ]
     },
     "metadata": {},
     "execution_count": 7
    }
   ],
   "source": [
    "with open(\"dropped_indices.p\", \"rb\") as f:\n",
    "    indices = pickle.load(f)\n",
    "indices"
   ]
  },
  {
   "cell_type": "code",
   "execution_count": null,
   "metadata": {},
   "outputs": [],
   "source": [
    "with open(\"imgs.p\", \"rb\") as f:\n",
    "    imgs = pickle.load(f)\n",
    "imgs"
   ]
  },
  {
   "cell_type": "code",
   "execution_count": null,
   "metadata": {},
   "outputs": [],
   "source": [
    "with open(\"lv2_names.p\", \"rb\") as f:\n",
    "    lv2_names = pickle.load(f)\n",
    "lv2_names"
   ]
  },
  {
   "cell_type": "code",
   "execution_count": 11,
   "metadata": {},
   "outputs": [
    {
     "output_type": "execute_result",
     "data": {
      "text/plain": [
       "5749"
      ]
     },
     "metadata": {},
     "execution_count": 11
    }
   ],
   "source": [
    "len(imgs)"
   ]
  },
  {
   "cell_type": "code",
   "execution_count": 12,
   "metadata": {},
   "outputs": [
    {
     "output_type": "execute_result",
     "data": {
      "text/plain": [
       "5749"
      ]
     },
     "metadata": {},
     "execution_count": 12
    }
   ],
   "source": [
    "len(lv2_names)"
   ]
  },
  {
   "cell_type": "code",
   "execution_count": 25,
   "metadata": {},
   "outputs": [],
   "source": [
    "# for label in df[\"LV2\"].unique():\n",
    "#     os.makedirs(path+f\"/{label}\")"
   ]
  },
  {
   "cell_type": "code",
   "execution_count": 30,
   "metadata": {},
   "outputs": [],
   "source": [
    "for img in imgs[:3]:\n",
    "    img.show()"
   ]
  },
  {
   "cell_type": "code",
   "execution_count": 35,
   "metadata": {
    "tags": []
   },
   "outputs": [],
   "source": [
    "for idx,img in tqdm(enumerate(imgs)):\n",
    "    save_path = path+f\"/{lv2_names[idx]}\"\n",
    "    # print(save_path)\n",
    "    img.save(save_path+f\"/{idx}.png\")\n",
    "    \n",
    "    \n"
   ]
  },
  {
   "cell_type": "code",
   "execution_count": null,
   "metadata": {},
   "outputs": [],
   "source": []
  }
 ]
}