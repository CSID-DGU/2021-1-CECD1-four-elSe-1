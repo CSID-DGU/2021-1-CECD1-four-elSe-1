{
 "metadata": {
  "language_info": {
   "codemirror_mode": {
    "name": "ipython",
    "version": 3
   },
   "file_extension": ".py",
   "mimetype": "text/x-python",
   "name": "python",
   "nbconvert_exporter": "python",
   "pygments_lexer": "ipython3",
   "version": "3.7.3-final"
  },
  "orig_nbformat": 2,
  "kernelspec": {
   "name": "python373jvsc74a57bd0b3ba2566441a7c06988d0923437866b63cedc61552a5af99d1f4fb67d367b25f",
   "display_name": "Python 3.7.3 64-bit (conda)"
  }
 },
 "nbformat": 4,
 "nbformat_minor": 2,
 "cells": [
  {
   "cell_type": "code",
   "execution_count": 1,
   "metadata": {},
   "outputs": [],
   "source": [
    "import pandas as pd\n",
    "import os\n",
    "from glob import glob\n",
    "from PIL import Image\n",
    "import matplotlib.pyplot as plt\n",
    "import cv2\n",
    "\n",
    "from urllib import request\n",
    "import urllib\n",
    "from io import BytesIO\n",
    "import numpy as np\n",
    "from skimage import io\n",
    "from tqdm import tqdm\n",
    "import pickle"
   ]
  },
  {
   "cell_type": "code",
   "execution_count": null,
   "metadata": {},
   "outputs": [],
   "source": []
  },
  {
   "cell_type": "code",
   "execution_count": 2,
   "metadata": {},
   "outputs": [],
   "source": [
    "path = \"./csv/침구-커튼-러그/침구\"\n"
   ]
  },
  {
   "cell_type": "code",
   "execution_count": 3,
   "metadata": {},
   "outputs": [
    {
     "output_type": "execute_result",
     "data": {
      "text/plain": [
       "   PROD_ID                                     PROD_NM       LV0 LV1  \\\n",
       "0   366952        [위필] 천연라텍스 매트리스 [통몰드] 15cm 퀸(Q) 풀 세트  침구-커튼-러그  침구   \n",
       "1   366953    [위필] 천연라텍스 매트리스 [통몰드] 15cm 슈퍼싱글(SS) 풀 세트  침구-커튼-러그  침구   \n",
       "2   367046             위필 천연라텍스 5T 미니 싱글 매트리스 오가닉커버 증정  침구-커튼-러그  침구   \n",
       "3   366984      [위필] 천연라텍스 매트리스 [통몰드] 7.5cm 퀸 (Q) 풀 세트  침구-커튼-러그  침구   \n",
       "4   366985  [위필] 천연라텍스 매트리스 [통몰드] 7.5cm 슈퍼싱글 (SS) 풀 세트  침구-커튼-러그  침구   \n",
       "\n",
       "           LV2                                            IMG_URL  \\\n",
       "0  라텍스-메모리폼 매트  https://image.hanssem.com/hsimg//gds/550/366/3...   \n",
       "1  라텍스-메모리폼 매트  https://image.hanssem.com/hsimg//gds/550/366/3...   \n",
       "2  라텍스-메모리폼 매트  https://image.hanssem.com/hsimg//gds/550/367/3...   \n",
       "3  라텍스-메모리폼 매트  https://image.hanssem.com/hsimg//gds/550/366/3...   \n",
       "4  라텍스-메모리폼 매트  https://image.hanssem.com/hsimg//gds/550/366/3...   \n",
       "\n",
       "            LV0_onehot                                         LV1_onehot  \\\n",
       "0  [0 0 0 0 0 0 0 1 0]  [0 0 0 0 0 0 0 0 0 0 0 0 0 0 0 0 0 0 0 0 0 1 0...   \n",
       "1  [0 0 0 0 0 0 0 1 0]  [0 0 0 0 0 0 0 0 0 0 0 0 0 0 0 0 0 0 0 0 0 1 0...   \n",
       "2  [0 0 0 0 0 0 0 1 0]  [0 0 0 0 0 0 0 0 0 0 0 0 0 0 0 0 0 0 0 0 0 1 0...   \n",
       "3  [0 0 0 0 0 0 0 1 0]  [0 0 0 0 0 0 0 0 0 0 0 0 0 0 0 0 0 0 0 0 0 1 0...   \n",
       "4  [0 0 0 0 0 0 0 1 0]  [0 0 0 0 0 0 0 0 0 0 0 0 0 0 0 0 0 0 0 0 0 1 0...   \n",
       "\n",
       "                                          LV2_onehot  \n",
       "0  [0 0 0 0 0 0 0 0 0 0 0 0 0 0 0 0 0 0 0 0 0 0 0...  \n",
       "1  [0 0 0 0 0 0 0 0 0 0 0 0 0 0 0 0 0 0 0 0 0 0 0...  \n",
       "2  [0 0 0 0 0 0 0 0 0 0 0 0 0 0 0 0 0 0 0 0 0 0 0...  \n",
       "3  [0 0 0 0 0 0 0 0 0 0 0 0 0 0 0 0 0 0 0 0 0 0 0...  \n",
       "4  [0 0 0 0 0 0 0 0 0 0 0 0 0 0 0 0 0 0 0 0 0 0 0...  "
      ],
      "text/html": "<div>\n<style scoped>\n    .dataframe tbody tr th:only-of-type {\n        vertical-align: middle;\n    }\n\n    .dataframe tbody tr th {\n        vertical-align: top;\n    }\n\n    .dataframe thead th {\n        text-align: right;\n    }\n</style>\n<table border=\"1\" class=\"dataframe\">\n  <thead>\n    <tr style=\"text-align: right;\">\n      <th></th>\n      <th>PROD_ID</th>\n      <th>PROD_NM</th>\n      <th>LV0</th>\n      <th>LV1</th>\n      <th>LV2</th>\n      <th>IMG_URL</th>\n      <th>LV0_onehot</th>\n      <th>LV1_onehot</th>\n      <th>LV2_onehot</th>\n    </tr>\n  </thead>\n  <tbody>\n    <tr>\n      <th>0</th>\n      <td>366952</td>\n      <td>[위필] 천연라텍스 매트리스 [통몰드] 15cm 퀸(Q) 풀 세트</td>\n      <td>침구-커튼-러그</td>\n      <td>침구</td>\n      <td>라텍스-메모리폼 매트</td>\n      <td>https://image.hanssem.com/hsimg//gds/550/366/3...</td>\n      <td>[0 0 0 0 0 0 0 1 0]</td>\n      <td>[0 0 0 0 0 0 0 0 0 0 0 0 0 0 0 0 0 0 0 0 0 1 0...</td>\n      <td>[0 0 0 0 0 0 0 0 0 0 0 0 0 0 0 0 0 0 0 0 0 0 0...</td>\n    </tr>\n    <tr>\n      <th>1</th>\n      <td>366953</td>\n      <td>[위필] 천연라텍스 매트리스 [통몰드] 15cm 슈퍼싱글(SS) 풀 세트</td>\n      <td>침구-커튼-러그</td>\n      <td>침구</td>\n      <td>라텍스-메모리폼 매트</td>\n      <td>https://image.hanssem.com/hsimg//gds/550/366/3...</td>\n      <td>[0 0 0 0 0 0 0 1 0]</td>\n      <td>[0 0 0 0 0 0 0 0 0 0 0 0 0 0 0 0 0 0 0 0 0 1 0...</td>\n      <td>[0 0 0 0 0 0 0 0 0 0 0 0 0 0 0 0 0 0 0 0 0 0 0...</td>\n    </tr>\n    <tr>\n      <th>2</th>\n      <td>367046</td>\n      <td>위필 천연라텍스 5T 미니 싱글 매트리스 오가닉커버 증정</td>\n      <td>침구-커튼-러그</td>\n      <td>침구</td>\n      <td>라텍스-메모리폼 매트</td>\n      <td>https://image.hanssem.com/hsimg//gds/550/367/3...</td>\n      <td>[0 0 0 0 0 0 0 1 0]</td>\n      <td>[0 0 0 0 0 0 0 0 0 0 0 0 0 0 0 0 0 0 0 0 0 1 0...</td>\n      <td>[0 0 0 0 0 0 0 0 0 0 0 0 0 0 0 0 0 0 0 0 0 0 0...</td>\n    </tr>\n    <tr>\n      <th>3</th>\n      <td>366984</td>\n      <td>[위필] 천연라텍스 매트리스 [통몰드] 7.5cm 퀸 (Q) 풀 세트</td>\n      <td>침구-커튼-러그</td>\n      <td>침구</td>\n      <td>라텍스-메모리폼 매트</td>\n      <td>https://image.hanssem.com/hsimg//gds/550/366/3...</td>\n      <td>[0 0 0 0 0 0 0 1 0]</td>\n      <td>[0 0 0 0 0 0 0 0 0 0 0 0 0 0 0 0 0 0 0 0 0 1 0...</td>\n      <td>[0 0 0 0 0 0 0 0 0 0 0 0 0 0 0 0 0 0 0 0 0 0 0...</td>\n    </tr>\n    <tr>\n      <th>4</th>\n      <td>366985</td>\n      <td>[위필] 천연라텍스 매트리스 [통몰드] 7.5cm 슈퍼싱글 (SS) 풀 세트</td>\n      <td>침구-커튼-러그</td>\n      <td>침구</td>\n      <td>라텍스-메모리폼 매트</td>\n      <td>https://image.hanssem.com/hsimg//gds/550/366/3...</td>\n      <td>[0 0 0 0 0 0 0 1 0]</td>\n      <td>[0 0 0 0 0 0 0 0 0 0 0 0 0 0 0 0 0 0 0 0 0 1 0...</td>\n      <td>[0 0 0 0 0 0 0 0 0 0 0 0 0 0 0 0 0 0 0 0 0 0 0...</td>\n    </tr>\n  </tbody>\n</table>\n</div>"
     },
     "metadata": {},
     "execution_count": 3
    }
   ],
   "source": [
    "df = pd.read_csv(path+\".csv\")\n",
    "df.head()"
   ]
  },
  {
   "cell_type": "code",
   "execution_count": 12,
   "metadata": {},
   "outputs": [
    {
     "output_type": "execute_result",
     "data": {
      "text/plain": [
       "14780"
      ]
     },
     "metadata": {},
     "execution_count": 12
    }
   ],
   "source": [
    "len(df)"
   ]
  },
  {
   "cell_type": "code",
   "execution_count": 4,
   "metadata": {},
   "outputs": [
    {
     "output_type": "execute_result",
     "data": {
      "text/plain": [
       "array(['라텍스-메모리폼 매트', '방수커버-매트리스커버', '베개', '침구단품', '침구세트', '패드-스프레드',\n",
       "       'S-SS(체크-스트라이프)', 'Q-D-K(체크-스트라이프)', 'Q-D-K(캐릭터-일러스트)',\n",
       "       'Q-D-K(광목-린넨 내츄럴)', '매트리스커버', '베개-베캐커버', '베개커버(솜포함)', '이불커버',\n",
       "       'S-SS(차렵)', 'Q-D-K(차렵)', 'Q-D-K(홑이불)', 'S-SS(홑이불)', '차렵이불',\n",
       "       'Q-D-K(호텔-럭셔리)', '요-요커버', 'S-SS(무지-솔리드)', 'S-SS(일러스트-캐릭터)',\n",
       "       'Q-D-K(무지-솔리드)', 'Q-D-K(러블리-플라워)', 'Q-D-K 극세사', '극세사이불', '혼수-예단침구',\n",
       "       'Q-D-K(도트-패턴)', 'S-SS(극세사)', '요이불세트', '기능성 침구 기타', 'S-SS(러블리-플라워)',\n",
       "       'S-SS(광목-린넨 내츄럴)', '베개커버(무지-솔리드)', '베개커버(프린팅-일러스트)', 'S-SS(도트-패턴)'],\n",
       "      dtype=object)"
      ]
     },
     "metadata": {},
     "execution_count": 4
    }
   ],
   "source": [
    "df[\"LV2\"].unique()"
   ]
  },
  {
   "cell_type": "code",
   "execution_count": 5,
   "metadata": {},
   "outputs": [],
   "source": [
    "for label in df[\"LV2\"].unique():\n",
    "    if not os.path.isdir(path):\n",
    "        os.makedirs(path)"
   ]
  },
  {
   "cell_type": "code",
   "execution_count": 6,
   "metadata": {},
   "outputs": [
    {
     "output_type": "stream",
     "name": "stderr",
     "text": [
      "ipykernel_launcher:2: SettingWithCopyWarning: \nA value is trying to be set on a copy of a slice from a DataFrame\n\nSee the caveats in the documentation: https://pandas.pydata.org/pandas-docs/stable/user_guide/indexing.html#returning-a-view-versus-a-copy\nipykernel_launcher:3: SettingWithCopyWarning: \nA value is trying to be set on a copy of a slice from a DataFrame\n\nSee the caveats in the documentation: https://pandas.pydata.org/pandas-docs/stable/user_guide/indexing.html#returning-a-view-versus-a-copy\nipykernel_launcher:4: SettingWithCopyWarning: \nA value is trying to be set on a copy of a slice from a DataFrame\n\nSee the caveats in the documentation: https://pandas.pydata.org/pandas-docs/stable/user_guide/indexing.html#returning-a-view-versus-a-copy\n"
     ]
    }
   ],
   "source": [
    "for idx in df.index:\n",
    "    df[\"LV0\"][idx] = df[\"LV0\"][idx].replace(\"/\",\"-\")\n",
    "    df[\"LV1\"][idx] = df[\"LV1\"][idx].replace(\"/\",\"-\")\n",
    "    df[\"LV2\"][idx] = df[\"LV2\"][idx].replace(\"/\",\"-\")\n"
   ]
  },
  {
   "cell_type": "code",
   "execution_count": null,
   "metadata": {},
   "outputs": [],
   "source": []
  },
  {
   "cell_type": "code",
   "execution_count": 31,
   "metadata": {},
   "outputs": [
    {
     "output_type": "execute_result",
     "data": {
      "text/plain": [
       "   PROD_ID                                     PROD_NM       LV0 LV1  \\\n",
       "0   366952        [위필] 천연라텍스 매트리스 [통몰드] 15cm 퀸(Q) 풀 세트  침구-커튼-러그  침구   \n",
       "1   366953    [위필] 천연라텍스 매트리스 [통몰드] 15cm 슈퍼싱글(SS) 풀 세트  침구-커튼-러그  침구   \n",
       "2   367046             위필 천연라텍스 5T 미니 싱글 매트리스 오가닉커버 증정  침구-커튼-러그  침구   \n",
       "3   366984      [위필] 천연라텍스 매트리스 [통몰드] 7.5cm 퀸 (Q) 풀 세트  침구-커튼-러그  침구   \n",
       "4   366985  [위필] 천연라텍스 매트리스 [통몰드] 7.5cm 슈퍼싱글 (SS) 풀 세트  침구-커튼-러그  침구   \n",
       "\n",
       "           LV2                                            IMG_URL  \\\n",
       "0  라텍스-메모리폼 매트  https://image.hanssem.com/hsimg//gds/550/366/3...   \n",
       "1  라텍스-메모리폼 매트  https://image.hanssem.com/hsimg//gds/550/366/3...   \n",
       "2  라텍스-메모리폼 매트  https://image.hanssem.com/hsimg//gds/550/367/3...   \n",
       "3  라텍스-메모리폼 매트  https://image.hanssem.com/hsimg//gds/550/366/3...   \n",
       "4  라텍스-메모리폼 매트  https://image.hanssem.com/hsimg//gds/550/366/3...   \n",
       "\n",
       "            LV0_onehot                                         LV1_onehot  \\\n",
       "0  [0 0 0 0 0 0 0 1 0]  [0 0 0 0 0 0 0 0 0 0 0 0 0 0 0 0 0 0 0 0 0 1 0...   \n",
       "1  [0 0 0 0 0 0 0 1 0]  [0 0 0 0 0 0 0 0 0 0 0 0 0 0 0 0 0 0 0 0 0 1 0...   \n",
       "2  [0 0 0 0 0 0 0 1 0]  [0 0 0 0 0 0 0 0 0 0 0 0 0 0 0 0 0 0 0 0 0 1 0...   \n",
       "3  [0 0 0 0 0 0 0 1 0]  [0 0 0 0 0 0 0 0 0 0 0 0 0 0 0 0 0 0 0 0 0 1 0...   \n",
       "4  [0 0 0 0 0 0 0 1 0]  [0 0 0 0 0 0 0 0 0 0 0 0 0 0 0 0 0 0 0 0 0 1 0...   \n",
       "\n",
       "                                          LV2_onehot  \n",
       "0  [0 0 0 0 0 0 0 0 0 0 0 0 0 0 0 0 0 0 0 0 0 0 0...  \n",
       "1  [0 0 0 0 0 0 0 0 0 0 0 0 0 0 0 0 0 0 0 0 0 0 0...  \n",
       "2  [0 0 0 0 0 0 0 0 0 0 0 0 0 0 0 0 0 0 0 0 0 0 0...  \n",
       "3  [0 0 0 0 0 0 0 0 0 0 0 0 0 0 0 0 0 0 0 0 0 0 0...  \n",
       "4  [0 0 0 0 0 0 0 0 0 0 0 0 0 0 0 0 0 0 0 0 0 0 0...  "
      ],
      "text/html": "<div>\n<style scoped>\n    .dataframe tbody tr th:only-of-type {\n        vertical-align: middle;\n    }\n\n    .dataframe tbody tr th {\n        vertical-align: top;\n    }\n\n    .dataframe thead th {\n        text-align: right;\n    }\n</style>\n<table border=\"1\" class=\"dataframe\">\n  <thead>\n    <tr style=\"text-align: right;\">\n      <th></th>\n      <th>PROD_ID</th>\n      <th>PROD_NM</th>\n      <th>LV0</th>\n      <th>LV1</th>\n      <th>LV2</th>\n      <th>IMG_URL</th>\n      <th>LV0_onehot</th>\n      <th>LV1_onehot</th>\n      <th>LV2_onehot</th>\n    </tr>\n  </thead>\n  <tbody>\n    <tr>\n      <th>0</th>\n      <td>366952</td>\n      <td>[위필] 천연라텍스 매트리스 [통몰드] 15cm 퀸(Q) 풀 세트</td>\n      <td>침구-커튼-러그</td>\n      <td>침구</td>\n      <td>라텍스-메모리폼 매트</td>\n      <td>https://image.hanssem.com/hsimg//gds/550/366/3...</td>\n      <td>[0 0 0 0 0 0 0 1 0]</td>\n      <td>[0 0 0 0 0 0 0 0 0 0 0 0 0 0 0 0 0 0 0 0 0 1 0...</td>\n      <td>[0 0 0 0 0 0 0 0 0 0 0 0 0 0 0 0 0 0 0 0 0 0 0...</td>\n    </tr>\n    <tr>\n      <th>1</th>\n      <td>366953</td>\n      <td>[위필] 천연라텍스 매트리스 [통몰드] 15cm 슈퍼싱글(SS) 풀 세트</td>\n      <td>침구-커튼-러그</td>\n      <td>침구</td>\n      <td>라텍스-메모리폼 매트</td>\n      <td>https://image.hanssem.com/hsimg//gds/550/366/3...</td>\n      <td>[0 0 0 0 0 0 0 1 0]</td>\n      <td>[0 0 0 0 0 0 0 0 0 0 0 0 0 0 0 0 0 0 0 0 0 1 0...</td>\n      <td>[0 0 0 0 0 0 0 0 0 0 0 0 0 0 0 0 0 0 0 0 0 0 0...</td>\n    </tr>\n    <tr>\n      <th>2</th>\n      <td>367046</td>\n      <td>위필 천연라텍스 5T 미니 싱글 매트리스 오가닉커버 증정</td>\n      <td>침구-커튼-러그</td>\n      <td>침구</td>\n      <td>라텍스-메모리폼 매트</td>\n      <td>https://image.hanssem.com/hsimg//gds/550/367/3...</td>\n      <td>[0 0 0 0 0 0 0 1 0]</td>\n      <td>[0 0 0 0 0 0 0 0 0 0 0 0 0 0 0 0 0 0 0 0 0 1 0...</td>\n      <td>[0 0 0 0 0 0 0 0 0 0 0 0 0 0 0 0 0 0 0 0 0 0 0...</td>\n    </tr>\n    <tr>\n      <th>3</th>\n      <td>366984</td>\n      <td>[위필] 천연라텍스 매트리스 [통몰드] 7.5cm 퀸 (Q) 풀 세트</td>\n      <td>침구-커튼-러그</td>\n      <td>침구</td>\n      <td>라텍스-메모리폼 매트</td>\n      <td>https://image.hanssem.com/hsimg//gds/550/366/3...</td>\n      <td>[0 0 0 0 0 0 0 1 0]</td>\n      <td>[0 0 0 0 0 0 0 0 0 0 0 0 0 0 0 0 0 0 0 0 0 1 0...</td>\n      <td>[0 0 0 0 0 0 0 0 0 0 0 0 0 0 0 0 0 0 0 0 0 0 0...</td>\n    </tr>\n    <tr>\n      <th>4</th>\n      <td>366985</td>\n      <td>[위필] 천연라텍스 매트리스 [통몰드] 7.5cm 슈퍼싱글 (SS) 풀 세트</td>\n      <td>침구-커튼-러그</td>\n      <td>침구</td>\n      <td>라텍스-메모리폼 매트</td>\n      <td>https://image.hanssem.com/hsimg//gds/550/366/3...</td>\n      <td>[0 0 0 0 0 0 0 1 0]</td>\n      <td>[0 0 0 0 0 0 0 0 0 0 0 0 0 0 0 0 0 0 0 0 0 1 0...</td>\n      <td>[0 0 0 0 0 0 0 0 0 0 0 0 0 0 0 0 0 0 0 0 0 0 0...</td>\n    </tr>\n  </tbody>\n</table>\n</div>"
     },
     "metadata": {},
     "execution_count": 31
    }
   ],
   "source": [
    "df.head()"
   ]
  },
  {
   "cell_type": "code",
   "execution_count": 32,
   "metadata": {},
   "outputs": [
    {
     "output_type": "execute_result",
     "data": {
      "text/plain": [
       "      PROD_ID                PROD_NM       LV0 LV1        LV2  \\\n",
       "2496   255493  오아스 차렵 이불 싱글 (Single)  침구-커튼-러그  침구  Q-D-K(차렵)   \n",
       "\n",
       "                                                IMG_URL           LV0_onehot  \\\n",
       "2496  https://image.hanssem.com/hsimg//gds/550/255/2...  [0 0 0 0 0 0 0 1 0]   \n",
       "\n",
       "                                             LV1_onehot  \\\n",
       "2496  [0 0 0 0 0 0 0 0 0 0 0 0 0 0 0 0 0 0 0 0 0 1 0...   \n",
       "\n",
       "                                             LV2_onehot  \n",
       "2496  [0 0 0 0 0 0 0 0 0 0 0 0 0 0 0 0 0 0 0 0 0 0 0...  "
      ],
      "text/html": "<div>\n<style scoped>\n    .dataframe tbody tr th:only-of-type {\n        vertical-align: middle;\n    }\n\n    .dataframe tbody tr th {\n        vertical-align: top;\n    }\n\n    .dataframe thead th {\n        text-align: right;\n    }\n</style>\n<table border=\"1\" class=\"dataframe\">\n  <thead>\n    <tr style=\"text-align: right;\">\n      <th></th>\n      <th>PROD_ID</th>\n      <th>PROD_NM</th>\n      <th>LV0</th>\n      <th>LV1</th>\n      <th>LV2</th>\n      <th>IMG_URL</th>\n      <th>LV0_onehot</th>\n      <th>LV1_onehot</th>\n      <th>LV2_onehot</th>\n    </tr>\n  </thead>\n  <tbody>\n    <tr>\n      <th>2496</th>\n      <td>255493</td>\n      <td>오아스 차렵 이불 싱글 (Single)</td>\n      <td>침구-커튼-러그</td>\n      <td>침구</td>\n      <td>Q-D-K(차렵)</td>\n      <td>https://image.hanssem.com/hsimg//gds/550/255/2...</td>\n      <td>[0 0 0 0 0 0 0 1 0]</td>\n      <td>[0 0 0 0 0 0 0 0 0 0 0 0 0 0 0 0 0 0 0 0 0 1 0...</td>\n      <td>[0 0 0 0 0 0 0 0 0 0 0 0 0 0 0 0 0 0 0 0 0 0 0...</td>\n    </tr>\n  </tbody>\n</table>\n</div>"
     },
     "metadata": {},
     "execution_count": 32
    }
   ],
   "source": [
    "df[df[\"PROD_ID\"]==255493]"
   ]
  },
  {
   "cell_type": "code",
   "execution_count": 8,
   "metadata": {},
   "outputs": [],
   "source": [
    "df.to_csv(path+\".csv\", index=False, encoding=\"utf-8-sig\")"
   ]
  },
  {
   "cell_type": "code",
   "execution_count": 81,
   "metadata": {},
   "outputs": [],
   "source": [
    "# res = request.urlopen(df[\"IMG_URL\"][0])\n",
    "# img = Image.open(BytesIO(res.read()))"
   ]
  },
  {
   "cell_type": "code",
   "execution_count": 9,
   "metadata": {},
   "outputs": [
    {
     "output_type": "stream",
     "name": "stderr",
     "text": [
      "100%|██████████| 3099/3099 [07:26<00:00,  6.94it/s]\n"
     ]
    }
   ],
   "source": [
    "# dropped_indices = []\n",
    "# imgs = []\n",
    "# lv2_names = []\n",
    "# for idx in tqdm(df.index):\n",
    "#     try:\n",
    "#         res = request.urlopen(df[\"IMG_URL\"][idx])\n",
    "#         img = Image.open(BytesIO(res.read())) \n",
    "#         if np.array(img).shape == (550,550,3) :\n",
    "#             imgs.append(img)\n",
    "#             lv2_name = df[\"LV2\"][idx]\n",
    "#             lv2_names.append(lv2_name)\n",
    "#         else:\n",
    "#             dropped_indices.append(idx)\n",
    "        \n",
    "#     except:\n",
    "#         dropped_indices.append(idx)\n",
    "\n"
   ]
  },
  {
   "cell_type": "code",
   "execution_count": 8,
   "metadata": {},
   "outputs": [],
   "source": [
    "dPath = \"D:/download/csv/침구-커튼-러그/침구\""
   ]
  },
  {
   "cell_type": "code",
   "execution_count": null,
   "metadata": {},
   "outputs": [],
   "source": []
  },
  {
   "cell_type": "code",
   "execution_count": 9,
   "metadata": {},
   "outputs": [],
   "source": [
    "# with open(dPath+\"/imgs.p\", \"wb\") as f:\n",
    "#     pickle.dump(imgs, f)\n",
    "\n",
    "# with open(dPath+\"/lv2_names.p\", \"wb\") as f:\n",
    "#     pickle.dump(lv2_names, f)\n",
    "\n",
    "# with open(dPath+\"/dropped_indices.p\", \"wb\") as f:\n",
    "#     pickle.dump(dropped_indices, f)"
   ]
  },
  {
   "cell_type": "code",
   "execution_count": 64,
   "metadata": {},
   "outputs": [],
   "source": []
  },
  {
   "cell_type": "code",
   "execution_count": 65,
   "metadata": {},
   "outputs": [],
   "source": []
  },
  {
   "cell_type": "code",
   "execution_count": 15,
   "metadata": {},
   "outputs": [
    {
     "output_type": "execute_result",
     "data": {
      "text/plain": [
       "35"
      ]
     },
     "metadata": {},
     "execution_count": 15
    }
   ],
   "source": [
    "with open(dPath+\"/dropped_indices.p\", \"rb\") as f:\n",
    "    dropped_indices = pickle.load(f)\n",
    "len(dropped_indices)"
   ]
  },
  {
   "cell_type": "code",
   "execution_count": 11,
   "metadata": {},
   "outputs": [
    {
     "output_type": "execute_result",
     "data": {
      "text/plain": [
       "14780"
      ]
     },
     "metadata": {},
     "execution_count": 11
    }
   ],
   "source": [
    "with open(dPath+\"/imgs.p\", \"rb\") as f:\n",
    "    imgs = pickle.load(f)\n",
    "len(imgs)"
   ]
  },
  {
   "cell_type": "code",
   "execution_count": 13,
   "metadata": {},
   "outputs": [
    {
     "output_type": "execute_result",
     "data": {
      "text/plain": [
       "14780"
      ]
     },
     "metadata": {},
     "execution_count": 13
    }
   ],
   "source": [
    "with open(dPath+\"/lv2_names.p\", \"rb\") as f:\n",
    "    lv2_names = pickle.load(f)\n",
    "len(lv2_names)"
   ]
  },
  {
   "cell_type": "code",
   "execution_count": 14,
   "metadata": {},
   "outputs": [],
   "source": [
    "df2 = df.copy()\n",
    "if len(df2[\"IMG_URL\"]) != len(imgs):\n",
    "    df2 = df2.drop([df2.index[idx] for idx in dropped_indices])\n",
    "    df2.to_csv(path+\".csv\", index=False, encoding=\"utf-8-sig\")"
   ]
  },
  {
   "cell_type": "code",
   "execution_count": 21,
   "metadata": {},
   "outputs": [
    {
     "output_type": "execute_result",
     "data": {
      "text/plain": [
       "2496    https://image.hanssem.com/hsimg//gds/550/255/2...\n",
       "Name: IMG_URL, dtype: object"
      ]
     },
     "metadata": {},
     "execution_count": 21
    }
   ],
   "source": [
    "df2[df[\"PROD_ID\"]==255493][\"IMG_URL\"]"
   ]
  },
  {
   "cell_type": "code",
   "execution_count": 23,
   "metadata": {},
   "outputs": [],
   "source": [
    "for label in df[\"LV2\"].unique():\n",
    "    if not os.path.isdir(path+f\"/{label}\"):\n",
    "        os.makedirs(path+f\"/{label}\")"
   ]
  },
  {
   "cell_type": "code",
   "execution_count": 24,
   "metadata": {
    "tags": []
   },
   "outputs": [
    {
     "output_type": "stream",
     "name": "stderr",
     "text": [
      "14780it [19:24, 12.69it/s]\n"
     ]
    }
   ],
   "source": [
    "for idx,img in tqdm(enumerate(imgs)):\n",
    "    save_path = path+f\"/{lv2_names[idx]}\"\n",
    "    # print(save_path)\n",
    "    img.save(save_path+f\"/{df['PROD_ID'][idx]}.png\")\n",
    "    \n",
    "    \n"
   ]
  },
  {
   "cell_type": "code",
   "execution_count": null,
   "metadata": {},
   "outputs": [],
   "source": []
  }
 ]
}