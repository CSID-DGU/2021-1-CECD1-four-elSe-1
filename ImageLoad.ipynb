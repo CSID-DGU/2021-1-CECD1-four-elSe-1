{
 "metadata": {
  "language_info": {
   "codemirror_mode": {
    "name": "ipython",
    "version": 3
   },
   "file_extension": ".py",
   "mimetype": "text/x-python",
   "name": "python",
   "nbconvert_exporter": "python",
   "pygments_lexer": "ipython3",
   "version": "3.8.3-final"
  },
  "orig_nbformat": 2,
  "kernelspec": {
   "name": "python3",
   "display_name": "Python 3.8.3 64-bit (conda)",
   "metadata": {
    "interpreter": {
     "hash": "b3ba2566441a7c06988d0923437866b63cedc61552a5af99d1f4fb67d367b25f"
    }
   }
  }
 },
 "nbformat": 4,
 "nbformat_minor": 2,
 "cells": [
  {
   "cell_type": "code",
   "execution_count": 12,
   "metadata": {},
   "outputs": [],
   "source": [
    "import pandas as pd\n",
    "import os\n",
    "from glob import glob\n",
    "from PIL import Image\n",
    "import matplotlib.pyplot as plt\n",
    "import cv2\n",
    "\n",
    "from urllib import request\n",
    "import urllib\n",
    "from io import BytesIO\n",
    "import numpy as np\n",
    "from skimage import io\n",
    "from tqdm import tqdm"
   ]
  },
  {
   "cell_type": "code",
   "execution_count": null,
   "metadata": {},
   "outputs": [],
   "source": [
    "path = \"./csv/침구-커튼-러그/침구\""
   ]
  },
  {
   "cell_type": "code",
   "execution_count": null,
   "metadata": {},
   "outputs": [],
   "source": [
    "df = pd.read_csv(path+\".csv\")\n",
    "df.head()"
   ]
  },
  {
   "cell_type": "code",
   "execution_count": null,
   "metadata": {},
   "outputs": [],
   "source": [
    "len(df)"
   ]
  },
  {
   "cell_type": "code",
   "execution_count": null,
   "metadata": {},
   "outputs": [],
   "source": [
    "\n",
    "df[\"LV2\"].unique()"
   ]
  },
  {
   "cell_type": "code",
   "execution_count": null,
   "metadata": {},
   "outputs": [],
   "source": [
    "for label in df[\"LV2\"].unique():\n",
    "    if not os.path.isdir(path):\n",
    "        os.makedirs(path)"
   ]
  },
  {
   "cell_type": "code",
   "execution_count": null,
   "metadata": {},
   "outputs": [],
   "source": [
    "for idx in df.index:\n",
    "    df[\"LV0\"][idx] = df[\"LV0\"][idx].replace(\"/\",\"+\")\n",
    "    df[\"LV1\"][idx] = df[\"LV1\"][idx].replace(\"/\",\"+\")\n",
    "    df[\"LV2\"][idx] = df[\"LV2\"][idx].replace(\"/\",\"+\")"
   ]
  },
  {
   "cell_type": "code",
   "execution_count": null,
   "metadata": {},
   "outputs": [],
   "source": [
    "df.head()"
   ]
  },
  {
   "cell_type": "code",
   "execution_count": null,
   "metadata": {},
   "outputs": [],
   "source": [
    "df.to_csv(path+\".csv\", index=False, encoding=\"utf-8-sig\")"
   ]
  },
  {
   "cell_type": "code",
   "execution_count": null,
   "metadata": {},
   "outputs": [],
   "source": [
    "# dropped_indices = []\n",
    "# imgs = []\n",
    "# lv2_names = []\n",
    "# for idx in tqdm(df.index):\n",
    "#     try:\n",
    "#         res = request.urlopen(df[\"IMG_URL\"][idx])\n",
    "#         img = Image.open(BytesIO(res.read())) \n",
    "#         if np.array(img).shape == (550,550,3) :\n",
    "#             imgs.append(img)\n",
    "#             lv2_name = df[\"LV2\"][idx]\n",
    "#             lv2_names.append(lv2_name)\n",
    "#         else:\n",
    "#             dropped_indices.append(idx)\n",
    "        \n",
    "#     except:\n",
    "#         dropped_indices.append(idx)"
   ]
  },
  {
   "cell_type": "code",
   "execution_count": null,
   "metadata": {},
   "outputs": [],
   "source": [
    "# with open(dPath+\"/imgs.p\", \"wb\") as f:\n",
    "#     pickle.dump(imgs, f)\n",
    "\n",
    "# with open(dPath+\"/lv2_names.p\", \"wb\") as f:\n",
    "#     pickle.dump(lv2_names, f)\n",
    "\n",
    "# with open(dPath+\"/dropped_indices.p\", \"wb\") as f:\n",
    "#     pickle.dump(dropped_indices, f)"
   ]
  },
  {
   "cell_type": "code",
   "execution_count": null,
   "metadata": {},
   "outputs": [],
   "source": [
    "\n",
    "with open(dPath+\"/dropped_indices.p\", \"rb\") as f:\n",
    "    dropped_indices = pickle.load(f)\n",
    "len(dropped_indices)"
   ]
  },
  {
   "cell_type": "code",
   "execution_count": null,
   "metadata": {},
   "outputs": [],
   "source": [
    "with open(dPath+\"/imgs.p\", \"rb\") as f:\n",
    "    imgs = pickle.load(f)\n",
    "len(imgs)"
   ]
  },
  {
   "cell_type": "code",
   "execution_count": null,
   "metadata": {},
   "outputs": [],
   "source": [
    "with open(dPath+\"/lv2_names.p\", \"rb\") as f:\n",
    "    lv2_names = pickle.load(f)\n",
    "len(lv2_names)"
   ]
  },
  {
   "cell_type": "code",
   "execution_count": null,
   "metadata": {},
   "outputs": [],
   "source": [
    "\n",
    "df2 = df.copy()\n",
    "if len(df2[\"IMG_URL\"]) != len(imgs):\n",
    "    df2 = df2.drop([df2.index[idx] for idx in dropped_indices])\n",
    "    df2.to_csv(path+\".csv\", index=False, encoding=\"utf-8-sig\")"
   ]
  },
  {
   "cell_type": "code",
   "execution_count": null,
   "metadata": {},
   "outputs": [],
   "source": [
    "for label in df[\"LV2\"].unique():\n",
    "    if not os.path.isdir(path+f\"/{label}\"):\n",
    "        os.makedirs(path+f\"/{label}\")"
   ]
  },
  {
   "cell_type": "code",
   "execution_count": null,
   "metadata": {},
   "outputs": [],
   "source": [
    "for idx,img in tqdm(enumerate(imgs)):\n",
    "    save_path = path+f\"/{lv2_names[idx]}\"\n",
    "    # print(save_path)\n",
    "    img.save(save_path+f\"/{df['PROD_ID'][idx]}.png\")"
   ]
  }
 ]
}